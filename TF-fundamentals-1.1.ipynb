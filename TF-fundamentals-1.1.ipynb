{
 "cells": [
  {
   "cell_type": "markdown",
   "id": "f0c89ed6-e664-4fb3-8a9d-250bde1d736d",
   "metadata": {},
   "source": [
    "# In this notebook, we are going to cover some of the most fundamental concept of tensors using TensorFlow\n",
    "More specifically, we're going to cover:\n",
    "- Introduction to tensors\n",
    "- Getting information from tensors\n",
    "- Manipulating tensors\n",
    "- Tensors and Numpy\n",
    "- Using @tf.function (a way to speed up your regular python functions)\n",
    "- Using GPUs with TensorFlow (or TPUs)\n",
    "- Exercises"
   ]
  },
  {
   "cell_type": "markdown",
   "id": "cc0fa52e-1f0d-418d-937c-d576f88ef33a",
   "metadata": {},
   "source": [
    "# Introduction to Tensors"
   ]
  },
  {
   "cell_type": "code",
   "execution_count": 1,
   "id": "2f6589b4-dfb7-4773-94bc-61eec44e3874",
   "metadata": {},
   "outputs": [],
   "source": [
    "# Import TensorFlow\n",
    "import tensorflow as tf"
   ]
  },
  {
   "cell_type": "code",
   "execution_count": 5,
   "id": "8bc57282-1c26-4231-9075-cadf3eaeca2b",
   "metadata": {},
   "outputs": [
    {
     "name": "stdout",
     "output_type": "stream",
     "text": [
      "2.19.0\n"
     ]
    }
   ],
   "source": [
    "# lets check the version of tensorflow\n",
    "print(tf.__version__)"
   ]
  },
  {
   "cell_type": "code",
   "execution_count": 6,
   "id": "b2fb235d-8a3f-46d1-a10a-e34638651aa7",
   "metadata": {},
   "outputs": [
    {
     "data": {
      "text/plain": [
       "<tf.Tensor: shape=(), dtype=int32, numpy=7>"
      ]
     },
     "execution_count": 6,
     "metadata": {},
     "output_type": "execute_result"
    }
   ],
   "source": [
    "# Create tensors with tf.constant()\n",
    "scalar = tf.constant(7)\n",
    "scalar"
   ]
  },
  {
   "cell_type": "code",
   "execution_count": 8,
   "id": "efd8c5c9-5e59-46b4-87d0-9288635c01c6",
   "metadata": {},
   "outputs": [
    {
     "data": {
      "text/plain": [
       "0"
      ]
     },
     "execution_count": 8,
     "metadata": {},
     "output_type": "execute_result"
    }
   ],
   "source": [
    "# Check the number of dimensions of a tensor (ndim)\n",
    "scalar.ndim"
   ]
  },
  {
   "cell_type": "code",
   "execution_count": 9,
   "id": "39849b7c-1356-4352-ac68-cc39f98aa09b",
   "metadata": {},
   "outputs": [
    {
     "data": {
      "text/plain": [
       "<tf.Tensor: shape=(2,), dtype=int32, numpy=array([10, 20], dtype=int32)>"
      ]
     },
     "execution_count": 9,
     "metadata": {},
     "output_type": "execute_result"
    }
   ],
   "source": [
    "# Create a vector\n",
    "vector = tf.constant([10,20])\n",
    "vector"
   ]
  },
  {
   "cell_type": "code",
   "execution_count": 10,
   "id": "46d71d66-9888-4a91-8925-9c396f3df179",
   "metadata": {},
   "outputs": [
    {
     "data": {
      "text/plain": [
       "1"
      ]
     },
     "execution_count": 10,
     "metadata": {},
     "output_type": "execute_result"
    }
   ],
   "source": [
    "# check the dimension of the vector\n",
    "vector.ndim"
   ]
  },
  {
   "cell_type": "code",
   "execution_count": 11,
   "id": "ec5c15d9-29d8-4061-8572-2c2a980ef1e2",
   "metadata": {},
   "outputs": [
    {
     "data": {
      "text/plain": [
       "<tf.Tensor: shape=(2, 2), dtype=int32, numpy=\n",
       "array([[ 1,  9],\n",
       "       [16,  1]], dtype=int32)>"
      ]
     },
     "execution_count": 11,
     "metadata": {},
     "output_type": "execute_result"
    }
   ],
   "source": [
    "# lets create a matrix \n",
    "matrix = tf.constant([[1,9],\n",
    "                      [16,1]])\n",
    "matrix"
   ]
  },
  {
   "cell_type": "code",
   "execution_count": 12,
   "id": "b3f660b1-41ff-432d-80e5-5939ab0c7c60",
   "metadata": {},
   "outputs": [
    {
     "data": {
      "text/plain": [
       "2"
      ]
     },
     "execution_count": 12,
     "metadata": {},
     "output_type": "execute_result"
    }
   ],
   "source": [
    "# check the dimension of the matrix\n",
    "matrix.ndim"
   ]
  },
  {
   "cell_type": "code",
   "execution_count": 13,
   "id": "080b9ccf-e190-451b-aadb-e5b78d74cb16",
   "metadata": {},
   "outputs": [
    {
     "data": {
      "text/plain": [
       "<tf.Tensor: shape=(3, 2), dtype=float16, numpy=\n",
       "array([[ 1.,  4.],\n",
       "       [ 9., 16.],\n",
       "       [25., 36.]], dtype=float16)>"
      ]
     },
     "execution_count": 13,
     "metadata": {},
     "output_type": "execute_result"
    }
   ],
   "source": [
    "# Create another matrix\n",
    "matrix2 = tf.constant([[1., 4.],\n",
    "                       [9., 16.],\n",
    "                       [25., 36.]], dtype=tf.float16) # specify the data type with dtype parameter\n",
    "matrix2"
   ]
  },
  {
   "cell_type": "code",
   "execution_count": 16,
   "id": "d1b35064-3960-4160-962e-8dda81b1fbfd",
   "metadata": {},
   "outputs": [
    {
     "data": {
      "text/plain": [
       "2"
      ]
     },
     "execution_count": 16,
     "metadata": {},
     "output_type": "execute_result"
    }
   ],
   "source": [
    "# you can check that matrix2 has a dimension of 2\n",
    "matrix2.ndim"
   ]
  },
  {
   "cell_type": "code",
   "execution_count": 18,
   "id": "69db6324-a1e5-42cd-ad37-1f0bb2903bbb",
   "metadata": {},
   "outputs": [
    {
     "data": {
      "text/plain": [
       "<tf.Tensor: shape=(3, 2, 3), dtype=int32, numpy=\n",
       "array([[[ 1,  2,  3],\n",
       "        [ 4,  5,  6]],\n",
       "\n",
       "       [[ 7,  8,  9],\n",
       "        [ 0,  0,  0]],\n",
       "\n",
       "       [[13, 19,  1],\n",
       "        [ 9,  3, 11]]], dtype=int32)>"
      ]
     },
     "execution_count": 18,
     "metadata": {},
     "output_type": "execute_result"
    }
   ],
   "source": [
    "# Now lets create a tensor\n",
    "tensor = tf.constant([[[1, 2, 3],\n",
    "                       [4, 5, 6]],\n",
    "                      [[7, 8, 9],\n",
    "                      [0, 0, 0]],\n",
    "                      [[13, 19, 1],\n",
    "                       [9, 3, 11]]])\n",
    "tensor"
   ]
  },
  {
   "cell_type": "code",
   "execution_count": 19,
   "id": "e9595ec3-e867-4237-9344-87af61fef676",
   "metadata": {},
   "outputs": [
    {
     "data": {
      "text/plain": [
       "3"
      ]
     },
     "execution_count": 19,
     "metadata": {},
     "output_type": "execute_result"
    }
   ],
   "source": [
    "# check the dimension\n",
    "tensor.ndim"
   ]
  },
  {
   "cell_type": "markdown",
   "id": "c122db6a-62ce-4322-99fc-a21f803fbe16",
   "metadata": {},
   "source": [
    "**We have done so for**:\n",
    "* Scalar: a single number\n",
    "* Vector: a number with direction\n",
    "* Matrix: a 2-dimensional array of numbers\n",
    "* Tensor: an n-dimensional array of numbers"
   ]
  },
  {
   "cell_type": "markdown",
   "id": "e81b0553-c37e-4160-9453-91650793c657",
   "metadata": {},
   "source": [
    "## Creating tensors with `tf.Variable`\n",
    "### `tf.constant` vs `tf.Variable` in TensorFlow:\n",
    "\n",
    "| **Feature**   | **tf.constant** (a function) | **tf.Variable** (a class)|\n",
    "|--------------|---------------|---------------|\n",
    "| **Mutability** | Immutable (cannot be changed) | Mutable (can be changed) |\n",
    "| **Purpose**   | Fixed data, constants | Trainable parameters, state |\n",
    "| **Initialization** | Required at creation | Required at creation |\n",
    "| **Use Cases** | Input data, fixed parameters | Model weights, biases, accumulators |\n",
    "\n",
    "`tf.constant` is great for fixed values that don’t change during computation, while `tf.Variable` is essential for parameters that need to be updated during training, such as weights in a neural network.\n",
    "\n",
    "\n"
   ]
  },
  {
   "cell_type": "code",
   "execution_count": 16,
   "id": "827bd080-24b0-474c-8748-18b49fd90616",
   "metadata": {},
   "outputs": [],
   "source": [
    "# Create a tensor with tf.Variable()\n",
    "my_tensor = tf.constant([[1.0, 2.0], [3.0, 4.0]])\n",
    "my_variable = tf.Variable([[1.0, 2.0], [3.0, 4.0]]) # or my_variable = tf.Variable(my_tensor)"
   ]
  },
  {
   "cell_type": "code",
   "execution_count": 17,
   "id": "c4ef8030-cdc6-4ce6-8df8-c1fa895eecd5",
   "metadata": {},
   "outputs": [
    {
     "data": {
      "text/plain": [
       "(<tf.Tensor: shape=(2, 2), dtype=float32, numpy=\n",
       " array([[1., 2.],\n",
       "        [3., 4.]], dtype=float32)>,\n",
       " <tf.Variable 'Variable:0' shape=(2, 2) dtype=float32, numpy=\n",
       " array([[1., 2.],\n",
       "        [3., 4.]], dtype=float32)>)"
      ]
     },
     "execution_count": 17,
     "metadata": {},
     "output_type": "execute_result"
    }
   ],
   "source": [
    "my_tensor, my_variable"
   ]
  },
  {
   "cell_type": "code",
   "execution_count": 14,
   "id": "67ca2569-1f88-45b9-ad56-d7e117b63a08",
   "metadata": {},
   "outputs": [],
   "source": [
    "# Variables can be all kinds of types, just like tensors\n",
    "bool_variable = tf.Variable([False, False, False, True])\n",
    "complex_variable = tf.Variable([5 + 4j, 6 + 1j])"
   ]
  },
  {
   "cell_type": "code",
   "execution_count": 15,
   "id": "50c27678-4088-4f03-aba8-14df542a4568",
   "metadata": {},
   "outputs": [
    {
     "data": {
      "text/plain": [
       "(<tf.Variable 'Variable:0' shape=(4,) dtype=bool, numpy=array([False, False, False,  True])>,\n",
       " <tf.Variable 'Variable:0' shape=(2,) dtype=complex128, numpy=array([5.+4.j, 6.+1.j])>)"
      ]
     },
     "execution_count": 15,
     "metadata": {},
     "output_type": "execute_result"
    }
   ],
   "source": [
    "bool_variable, complex_variable"
   ]
  },
  {
   "cell_type": "markdown",
   "id": "98becbee-a9b7-45ad-a039-589244c3f17b",
   "metadata": {},
   "source": [
    "##### Change the elements of tensor using `.assign()` method."
   ]
  },
  {
   "cell_type": "code",
   "execution_count": 19,
   "id": "14b20e07-68b1-4607-bce8-baac488a4615",
   "metadata": {},
   "outputs": [
    {
     "data": {
      "text/plain": [
       "<tf.Variable 'Variable:0' shape=(2, 2) dtype=float32, numpy=\n",
       "array([[0., 0.],\n",
       "       [3., 4.]], dtype=float32)>"
      ]
     },
     "execution_count": 19,
     "metadata": {},
     "output_type": "execute_result"
    }
   ],
   "source": [
    "my_variable[0].assign([0,0])\n",
    "my_variable"
   ]
  },
  {
   "cell_type": "code",
   "execution_count": 20,
   "id": "b3917cca-d818-4675-ac90-ba463b9f67d5",
   "metadata": {},
   "outputs": [
    {
     "ename": "AttributeError",
     "evalue": "'tensorflow.python.framework.ops.EagerTensor' object has no attribute 'assign'",
     "output_type": "error",
     "traceback": [
      "\u001b[1;31m---------------------------------------------------------------------------\u001b[0m",
      "\u001b[1;31mAttributeError\u001b[0m                            Traceback (most recent call last)",
      "Cell \u001b[1;32mIn[20], line 2\u001b[0m\n\u001b[0;32m      1\u001b[0m \u001b[38;5;66;03m# lets try to change in constant tensor\u001b[39;00m\n\u001b[1;32m----> 2\u001b[0m \u001b[43mmy_tensor\u001b[49m\u001b[43m[\u001b[49m\u001b[38;5;241;43m0\u001b[39;49m\u001b[43m]\u001b[49m\u001b[38;5;241;43m.\u001b[39;49m\u001b[43massign\u001b[49m([\u001b[38;5;241m0\u001b[39m,\u001b[38;5;241m0\u001b[39m])\n\u001b[0;32m      3\u001b[0m my_tensor\n",
      "File \u001b[1;32m~\\.conda\\envs\\env-hate\\lib\\site-packages\\tensorflow-2.19.0-py3.10-win-amd64.egg\\tensorflow\\python\\framework\\tensor.py:260\u001b[0m, in \u001b[0;36mTensor.__getattr__\u001b[1;34m(self, name)\u001b[0m\n\u001b[0;32m    252\u001b[0m \u001b[38;5;28;01mif\u001b[39;00m name \u001b[38;5;129;01min\u001b[39;00m {\u001b[38;5;124m\"\u001b[39m\u001b[38;5;124mT\u001b[39m\u001b[38;5;124m\"\u001b[39m, \u001b[38;5;124m\"\u001b[39m\u001b[38;5;124mastype\u001b[39m\u001b[38;5;124m\"\u001b[39m, \u001b[38;5;124m\"\u001b[39m\u001b[38;5;124mravel\u001b[39m\u001b[38;5;124m\"\u001b[39m, \u001b[38;5;124m\"\u001b[39m\u001b[38;5;124mtranspose\u001b[39m\u001b[38;5;124m\"\u001b[39m, \u001b[38;5;124m\"\u001b[39m\u001b[38;5;124mreshape\u001b[39m\u001b[38;5;124m\"\u001b[39m, \u001b[38;5;124m\"\u001b[39m\u001b[38;5;124mclip\u001b[39m\u001b[38;5;124m\"\u001b[39m, \u001b[38;5;124m\"\u001b[39m\u001b[38;5;124msize\u001b[39m\u001b[38;5;124m\"\u001b[39m,\n\u001b[0;32m    253\u001b[0m             \u001b[38;5;124m\"\u001b[39m\u001b[38;5;124mtolist\u001b[39m\u001b[38;5;124m\"\u001b[39m, \u001b[38;5;124m\"\u001b[39m\u001b[38;5;124mdata\u001b[39m\u001b[38;5;124m\"\u001b[39m}:\n\u001b[0;32m    254\u001b[0m   \u001b[38;5;66;03m# TODO(wangpeng): Export the enable_numpy_behavior knob\u001b[39;00m\n\u001b[0;32m    255\u001b[0m   \u001b[38;5;28;01mraise\u001b[39;00m \u001b[38;5;167;01mAttributeError\u001b[39;00m(\n\u001b[0;32m    256\u001b[0m       \u001b[38;5;124mf\u001b[39m\u001b[38;5;124m\"\u001b[39m\u001b[38;5;132;01m{\u001b[39;00m\u001b[38;5;28mtype\u001b[39m(\u001b[38;5;28mself\u001b[39m)\u001b[38;5;241m.\u001b[39m\u001b[38;5;18m__name__\u001b[39m\u001b[38;5;132;01m}\u001b[39;00m\u001b[38;5;124m object has no attribute \u001b[39m\u001b[38;5;124m'\u001b[39m\u001b[38;5;132;01m{\u001b[39;00mname\u001b[38;5;132;01m}\u001b[39;00m\u001b[38;5;124m'\u001b[39m\u001b[38;5;124m. \u001b[39m\u001b[38;5;124m\"\u001b[39m \u001b[38;5;241m+\u001b[39m \u001b[38;5;124m\"\"\"\u001b[39m\n\u001b[0;32m    257\u001b[0m \u001b[38;5;124m    If you are looking for numpy-related methods, please run the following:\u001b[39m\n\u001b[0;32m    258\u001b[0m \u001b[38;5;124m    tf.experimental.numpy.experimental_enable_numpy_behavior()\u001b[39m\n\u001b[0;32m    259\u001b[0m \u001b[38;5;124m  \u001b[39m\u001b[38;5;124m\"\"\"\u001b[39m)\n\u001b[1;32m--> 260\u001b[0m \u001b[38;5;28;43mself\u001b[39;49m\u001b[38;5;241;43m.\u001b[39;49m\u001b[38;5;21;43m__getattribute__\u001b[39;49m\u001b[43m(\u001b[49m\u001b[43mname\u001b[49m\u001b[43m)\u001b[49m\n",
      "\u001b[1;31mAttributeError\u001b[0m: 'tensorflow.python.framework.ops.EagerTensor' object has no attribute 'assign'"
     ]
    }
   ],
   "source": [
    "# lets try to change in constant tensor\n",
    "my_tensor[0].assign([0,0])\n",
    "my_tensor"
   ]
  },
  {
   "cell_type": "markdown",
   "id": "4c98697a-2987-416c-8c74-710b4ca0a3fc",
   "metadata": {},
   "source": [
    "**🗝 Note:** Rarely in practice will you need to decide whether to use tf.constant or tf.Variable to create tensors, as TensorFlow does this for us. However, if in doubt, use tf.constant and change it later if needed."
   ]
  },
  {
   "cell_type": "markdown",
   "id": "4925081e-833e-43f2-bc1a-d216bd5d166c",
   "metadata": {},
   "source": [
    "## Creating random tensors\n",
    "In TensorFlow, random tensors are used to initialize variables, create randomized data samples, or generate inputs for models. You can create them using various functions from `tf.random.`"
   ]
  },
  {
   "cell_type": "code",
   "execution_count": 21,
   "id": "246e2594-a611-4199-b511-2b0377e93186",
   "metadata": {},
   "outputs": [],
   "source": [
    "# Create two random (but the same) tensors\n",
    "g1 = tf.random.Generator.from_seed(1) # set local seed for reproducibility \n",
    "random_normal_tensor1 = g1.normal(shape=[2, 3])\n",
    "g2 = tf.random.Generator.from_seed(1) # set local seed for reproducibility \n",
    "random_normal_tensor2 = g2.normal(shape=[2, 3])"
   ]
  },
  {
   "cell_type": "code",
   "execution_count": 23,
   "id": "a1277387-420a-4f67-aab3-666114cf0120",
   "metadata": {},
   "outputs": [
    {
     "data": {
      "text/plain": [
       "(<tf.Tensor: shape=(2, 3), dtype=float32, numpy=\n",
       " array([[ 0.43842274, -0.53439844, -0.07710262],\n",
       "        [ 1.5658046 , -0.1012345 , -0.2744976 ]], dtype=float32)>,\n",
       " <tf.Tensor: shape=(2, 3), dtype=float32, numpy=\n",
       " array([[ 0.43842274, -0.53439844, -0.07710262],\n",
       "        [ 1.5658046 , -0.1012345 , -0.2744976 ]], dtype=float32)>,\n",
       " <tf.Tensor: shape=(2, 3), dtype=bool, numpy=\n",
       " array([[ True,  True,  True],\n",
       "        [ True,  True,  True]])>)"
      ]
     },
     "execution_count": 23,
     "metadata": {},
     "output_type": "execute_result"
    }
   ],
   "source": [
    "# are they equal\n",
    "random_normal_tensor1, random_normal_tensor2, random_normal_tensor1 == random_normal_tensor2"
   ]
  },
  {
   "cell_type": "markdown",
   "id": "4d17f0fd-94ba-4069-b478-fbbfbf393cbc",
   "metadata": {},
   "source": [
    "## Shuffle the order of the elements in a tensor\n",
    "Read Here 🔗: [tf.random.shuffle](https://www.tensorflow.org/api_docs/python/tf/random/shuffle)"
   ]
  },
  {
   "cell_type": "code",
   "execution_count": 25,
   "id": "7cef475f-39d5-4f8f-bc2c-fc26511131ec",
   "metadata": {},
   "outputs": [
    {
     "name": "stdout",
     "output_type": "stream",
     "text": [
      "Original Tensor: [1 2 3 4 5]\n",
      "Shuffled Tensor: [5 4 1 3 2]\n"
     ]
    }
   ],
   "source": [
    "# Define a tensor\n",
    "tensor = tf.constant([1, 2, 3, 4, 5])\n",
    "\n",
    "# Shuffle the tensor randomly\n",
    "shuffled_tensor = tf.random.shuffle(tensor, seed=24)\n",
    "\n",
    "print(\"Original Tensor:\", tensor.numpy())\n",
    "print(\"Shuffled Tensor:\", shuffled_tensor.numpy())"
   ]
  },
  {
   "cell_type": "markdown",
   "id": "ef8903e2-e0b9-475a-8d3d-057b6d52838a",
   "metadata": {},
   "source": [
    "If the global and the operation seeds are set, we get same results for every re-run of the program: [random seed](https://www.tensorflow.org/api_docs/python/tf/random/set_seed)\n",
    "> Rule 4: If both the global and the operation seed are set: Both seeds are used in conjunction to determine the random sequence."
   ]
  },
  {
   "cell_type": "code",
   "execution_count": 28,
   "id": "dccc72d9-a03a-49c5-bcb3-4fbcdbd81a72",
   "metadata": {},
   "outputs": [
    {
     "name": "stdout",
     "output_type": "stream",
     "text": [
      "Original Tensor:\n",
      " [[1 2]\n",
      " [3 4]\n",
      " [5 6]]\n",
      "Shuffled Tensor:\n",
      " [[5 6]\n",
      " [1 2]\n",
      " [3 4]]\n"
     ]
    }
   ],
   "source": [
    "tf.random.set_seed(55) # global level random seed\n",
    "# Define a tensor\n",
    "tensor2 = tf.constant([[1, 2], [3, 4], [5,6]])\n",
    "\n",
    "# Shuffle the tensor randomly\n",
    "shuffled_tensor2 = tf.random.shuffle(tensor2, seed=55) # operation level random seed\n",
    "\n",
    "print(\"Original Tensor:\\n\", tensor2.numpy())\n",
    "print(\"Shuffled Tensor:\\n\", shuffled_tensor2.numpy())"
   ]
  },
  {
   "cell_type": "markdown",
   "id": "deb607dc-f32d-46bb-9fb6-8f40389eea4e",
   "metadata": {},
   "source": [
    "## Other ways to create tensors\n",
    "- **[tf.ones](https://www.tensorflow.org/api_docs/python/tf/ones):** Creates a tensor with all elements set to one (1) (similar to `NumPy`).\n",
    "- **[tf.zeros](https://www.tensorflow.org/api_docs/python/tf/zeros):** Creates a tensor with all elements set to zeros (0) (similar to `NumPy`)."
   ]
  },
  {
   "cell_type": "code",
   "execution_count": 30,
   "id": "a4b00064-1543-473f-8738-c792ab18c14f",
   "metadata": {},
   "outputs": [
    {
     "data": {
      "text/plain": [
       "<tf.Tensor: shape=(3, 4), dtype=float32, numpy=\n",
       "array([[1., 1., 1., 1.],\n",
       "       [1., 1., 1., 1.],\n",
       "       [1., 1., 1., 1.]], dtype=float32)>"
      ]
     },
     "execution_count": 30,
     "metadata": {},
     "output_type": "execute_result"
    }
   ],
   "source": [
    "# create a tensor of all ones\n",
    "tf.ones([3,4])"
   ]
  },
  {
   "cell_type": "code",
   "execution_count": 31,
   "id": "22f1e637-8deb-41b6-8c2c-13bc15ac4595",
   "metadata": {},
   "outputs": [
    {
     "data": {
      "text/plain": [
       "<tf.Tensor: shape=(3, 4), dtype=float32, numpy=\n",
       "array([[0., 0., 0., 0.],\n",
       "       [0., 0., 0., 0.],\n",
       "       [0., 0., 0., 0.]], dtype=float32)>"
      ]
     },
     "execution_count": 31,
     "metadata": {},
     "output_type": "execute_result"
    }
   ],
   "source": [
    "# create a tensor of all zeros\n",
    "tf.zeros([3,4])"
   ]
  },
  {
   "cell_type": "markdown",
   "id": "f6e7e8ee-5a48-4ad7-a126-7550e990503b",
   "metadata": {},
   "source": [
    "## Turn NumPy arrays into tensors\n",
    "The main difference between arrays and TensorFlow tensors is the tensors can be ran on GPU (much faster for numerical computing). Otherwise they are very similar."
   ]
  },
  {
   "cell_type": "code",
   "execution_count": 33,
   "id": "c7cb4c87-adba-4627-806b-c7e3e852617a",
   "metadata": {},
   "outputs": [
    {
     "data": {
      "text/plain": [
       "array([ 1,  2,  3,  4,  5,  6,  7,  8,  9, 10, 11, 12, 13, 14, 15, 16, 17,\n",
       "       18, 19, 20, 21, 22, 23, 24], dtype=int32)"
      ]
     },
     "execution_count": 33,
     "metadata": {},
     "output_type": "execute_result"
    }
   ],
   "source": [
    "# import the numpy\n",
    "import numpy as np\n",
    "np_vector = np.arange(1, 25, dtype=np.int32)\n",
    "np_vector"
   ]
  },
  {
   "cell_type": "code",
   "execution_count": 34,
   "id": "aa83059a-ed2d-4e8c-b827-6688eff28e07",
   "metadata": {},
   "outputs": [
    {
     "data": {
      "text/plain": [
       "(<tf.Tensor: shape=(24,), dtype=int32, numpy=\n",
       " array([ 1,  2,  3,  4,  5,  6,  7,  8,  9, 10, 11, 12, 13, 14, 15, 16, 17,\n",
       "        18, 19, 20, 21, 22, 23, 24], dtype=int32)>,\n",
       " <tf.Tensor: shape=(8, 3), dtype=int32, numpy=\n",
       " array([[ 1,  2,  3],\n",
       "        [ 4,  5,  6],\n",
       "        [ 7,  8,  9],\n",
       "        [10, 11, 12],\n",
       "        [13, 14, 15],\n",
       "        [16, 17, 18],\n",
       "        [19, 20, 21],\n",
       "        [22, 23, 24]], dtype=int32)>,\n",
       " <tf.Tensor: shape=(2, 3, 4), dtype=int32, numpy=\n",
       " array([[[ 1,  2,  3,  4],\n",
       "         [ 5,  6,  7,  8],\n",
       "         [ 9, 10, 11, 12]],\n",
       " \n",
       "        [[13, 14, 15, 16],\n",
       "         [17, 18, 19, 20],\n",
       "         [21, 22, 23, 24]]], dtype=int32)>)"
      ]
     },
     "execution_count": 34,
     "metadata": {},
     "output_type": "execute_result"
    }
   ],
   "source": [
    "# Convert to tensors\n",
    "tensor1 = tf.constant(np_vector)\n",
    "tensor2 = tf.constant(np_vector, shape=(8,3))\n",
    "tensor3 = tf.constant(np_vector, shape=(2,3,4))\n",
    "tensor1, tensor2, tensor3"
   ]
  },
  {
   "cell_type": "code",
   "execution_count": 35,
   "id": "8c2500ce-6dd7-46f9-9a23-5a8aa777a012",
   "metadata": {},
   "outputs": [
    {
     "data": {
      "text/plain": [
       "(1, 2, 3)"
      ]
     },
     "execution_count": 35,
     "metadata": {},
     "output_type": "execute_result"
    }
   ],
   "source": [
    "# check the dimensions\n",
    "tensor1.ndim, tensor2.ndim, tensor3.ndim"
   ]
  },
  {
   "cell_type": "markdown",
   "id": "f9459742-fd30-427d-98af-64e38f63f553",
   "metadata": {},
   "source": [
    "## Getting Information from Tensors\n",
    "When working with tensors in TensorFlow, it’s important to be aware of the following properties:  \n",
    "\n",
    "- **Shape (`tensor.shape`)** – Represents the number of elements along each dimension of a tensor.  \n",
    "- **Rank (`tf.rank(tensor)`)** – The number of dimensions a tensor has. A scalar has rank `0`, a vector has rank `1`, a matrix has rank `2`, and higher-dimensional tensors have rank `n`.  \n",
    "- **ndim (`tensor.ndim`)** – The number of dimensions in a tensor, similar to rank. However, `ndim` is primarily used in NumPy-style operations within TensorFlow.  \n",
    "- **Axis or Dimension (`tensor[i]`, `tensor[:, n]`, etc.)** – Refers to a particular dimension of a tensor that can be accessed or manipulated.  \n",
    "- **Size (`tf.size(tensor)`)** – The total number of elements in a tensor.\n",
    ">Both `tf.rank(tensor)` and `tensor.ndim` give the number of dimensions of a tensor, meaning they provide the same information."
   ]
  },
  {
   "cell_type": "code",
   "execution_count": 36,
   "id": "9c677288-86e7-4233-8713-7f98ea7434d0",
   "metadata": {},
   "outputs": [
    {
     "data": {
      "text/plain": [
       "<tf.Tensor: shape=(2, 3, 2, 4), dtype=float32, numpy=\n",
       "array([[[[0., 0., 0., 0.],\n",
       "         [0., 0., 0., 0.]],\n",
       "\n",
       "        [[0., 0., 0., 0.],\n",
       "         [0., 0., 0., 0.]],\n",
       "\n",
       "        [[0., 0., 0., 0.],\n",
       "         [0., 0., 0., 0.]]],\n",
       "\n",
       "\n",
       "       [[[0., 0., 0., 0.],\n",
       "         [0., 0., 0., 0.]],\n",
       "\n",
       "        [[0., 0., 0., 0.],\n",
       "         [0., 0., 0., 0.]],\n",
       "\n",
       "        [[0., 0., 0., 0.],\n",
       "         [0., 0., 0., 0.]]]], dtype=float32)>"
      ]
     },
     "execution_count": 36,
     "metadata": {},
     "output_type": "execute_result"
    }
   ],
   "source": [
    "# Create a rank 4 tensor (4 dimensions)\n",
    "tensor1 = tf.zeros(shape=(2,3,2,4))\n",
    "tensor1"
   ]
  },
  {
   "cell_type": "code",
   "execution_count": 37,
   "id": "85b3190c-982b-4f43-ac46-9ab9b7b0b517",
   "metadata": {},
   "outputs": [
    {
     "data": {
      "text/plain": [
       "<tf.Tensor: shape=(3, 2, 4), dtype=float32, numpy=\n",
       "array([[[0., 0., 0., 0.],\n",
       "        [0., 0., 0., 0.]],\n",
       "\n",
       "       [[0., 0., 0., 0.],\n",
       "        [0., 0., 0., 0.]],\n",
       "\n",
       "       [[0., 0., 0., 0.],\n",
       "        [0., 0., 0., 0.]]], dtype=float32)>"
      ]
     },
     "execution_count": 37,
     "metadata": {},
     "output_type": "execute_result"
    }
   ],
   "source": [
    "tensor1[0]"
   ]
  },
  {
   "cell_type": "code",
   "execution_count": 39,
   "id": "f3bbf2ed-b81f-4734-9728-1015a353c3e0",
   "metadata": {},
   "outputs": [
    {
     "data": {
      "text/plain": [
       "(TensorShape([2, 3, 2, 4]),\n",
       " <tf.Tensor: shape=(), dtype=int32, numpy=4>,\n",
       " 1,\n",
       " <tf.Tensor: shape=(), dtype=int32, numpy=48>)"
      ]
     },
     "execution_count": 39,
     "metadata": {},
     "output_type": "execute_result"
    }
   ],
   "source": [
    "tensor1.shape, tf.rank(tensor1),  tensor.ndim, tf.size(tensor1)"
   ]
  },
  {
   "cell_type": "code",
   "execution_count": 41,
   "id": "20795840-75cb-47be-a2f4-aeccb7fc45eb",
   "metadata": {},
   "outputs": [
    {
     "name": "stdout",
     "output_type": "stream",
     "text": [
      "Datatype of every element:  <dtype: 'float32'>\n",
      "Number of dimensions (rank):  4  or  4\n",
      "Shape of tensor:  (2, 3, 2, 4)\n",
      "Elements along the 0 axis:  2\n",
      "Elements along the last axis:  4\n",
      "Total number of elements in tensor:  48\n"
     ]
    }
   ],
   "source": [
    "# Get various attributes of the tensor\n",
    "print(\"Datatype of every element: \", tensor1.dtype)\n",
    "print(\"Number of dimensions (rank): \", tensor1.ndim, \" or \", tf.rank(tensor1).numpy())\n",
    "print(\"Shape of tensor: \",  tensor1.shape)\n",
    "print(\"Elements along the 0 axis: \", tensor1.shape[0])\n",
    "print(\"Elements along the last axis: \", tensor1.shape[-1])\n",
    "print(\"Total number of elements in tensor: \", tf.size(tensor1).numpy())"
   ]
  },
  {
   "cell_type": "markdown",
   "id": "7ee7dbd2-e86d-4dba-b1fc-62d8f982318e",
   "metadata": {},
   "source": [
    "## Indexing tensors\n",
    "Tensors can be indexed just like Python lists."
   ]
  },
  {
   "cell_type": "code",
   "execution_count": 47,
   "id": "0c241919-6f55-47a6-8578-dd996f734bcc",
   "metadata": {},
   "outputs": [
    {
     "data": {
      "text/plain": [
       "<tf.Tensor: shape=(2, 2, 2, 2), dtype=float32, numpy=\n",
       "array([[[[0., 0.],\n",
       "         [0., 0.]],\n",
       "\n",
       "        [[0., 0.],\n",
       "         [0., 0.]]],\n",
       "\n",
       "\n",
       "       [[[0., 0.],\n",
       "         [0., 0.]],\n",
       "\n",
       "        [[0., 0.],\n",
       "         [0., 0.]]]], dtype=float32)>"
      ]
     },
     "execution_count": 47,
     "metadata": {},
     "output_type": "execute_result"
    }
   ],
   "source": [
    "# Get the first 2 elements of each dimension\n",
    "tensor1[:2, :2, :2, :2]"
   ]
  },
  {
   "cell_type": "code",
   "execution_count": 53,
   "id": "bb4dc336-6b62-414b-a79d-dfa4a15759fb",
   "metadata": {},
   "outputs": [
    {
     "data": {
      "text/plain": [
       "<tf.Tensor: shape=(1, 1, 1, 4), dtype=float32, numpy=array([[[[0., 0., 0., 0.]]]], dtype=float32)>"
      ]
     },
     "execution_count": 53,
     "metadata": {},
     "output_type": "execute_result"
    }
   ],
   "source": [
    "# Get the first element froma each dimension from each index except the last one\n",
    "tensor1[:1, :1, :1, :]"
   ]
  },
  {
   "cell_type": "code",
   "execution_count": 60,
   "id": "df2a1eb9-9ff2-425d-b57c-9b32be2f3846",
   "metadata": {},
   "outputs": [
    {
     "data": {
      "text/plain": [
       "<tf.Tensor: shape=(2, 2), dtype=int32, numpy=\n",
       "array([[2, 3],\n",
       "       [3, 3]], dtype=int32)>"
      ]
     },
     "execution_count": 60,
     "metadata": {},
     "output_type": "execute_result"
    }
   ],
   "source": [
    "# Create a rank 2 tensor (2 dimensions)\n",
    "rank2_tensor = tf.random.uniform([2,2], minval=2, maxval=5, dtype=tf.int32)\n",
    "rank2_tensor"
   ]
  },
  {
   "cell_type": "code",
   "execution_count": 61,
   "id": "539ce4cc-5341-428d-a2a3-d1707b837ced",
   "metadata": {},
   "outputs": [
    {
     "data": {
      "text/plain": [
       "<tf.Tensor: shape=(2,), dtype=int32, numpy=array([3, 3], dtype=int32)>"
      ]
     },
     "execution_count": 61,
     "metadata": {},
     "output_type": "execute_result"
    }
   ],
   "source": [
    "# Get the last item of each of row of our rank 2 tensor\n",
    "rank2_tensor[:, -1]"
   ]
  },
  {
   "cell_type": "markdown",
   "id": "4f057c36-782e-4b2f-8e2b-199b59b83757",
   "metadata": {},
   "source": [
    "## Add in extra dimension to a tensor\n",
    "- **Using `tf.newaxis`:** It is an alias for None, allowing you to insert a new dimension into a tensor when indexing.\n",
    "- **Using `tf.expand_dims()`:** It is more explicit—it allows you to specify which axis to insert the new dimension at.\n"
   ]
  },
  {
   "cell_type": "code",
   "execution_count": 62,
   "id": "04b0163b-74f3-465e-af97-bbae90f2f977",
   "metadata": {},
   "outputs": [
    {
     "data": {
      "text/plain": [
       "<tf.Tensor: shape=(2, 2, 1), dtype=int32, numpy=\n",
       "array([[[2],\n",
       "        [3]],\n",
       "\n",
       "       [[3],\n",
       "        [3]]], dtype=int32)>"
      ]
     },
     "execution_count": 62,
     "metadata": {},
     "output_type": "execute_result"
    }
   ],
   "source": [
    "# add axis using newaxis\n",
    "tensor_new = rank2_tensor[..., tf.newaxis]  # '...' stands for ':, :'\n",
    "tensor_new"
   ]
  },
  {
   "cell_type": "code",
   "execution_count": 63,
   "id": "6fca39fe-fef6-40e6-ac32-aacdbf325822",
   "metadata": {},
   "outputs": [
    {
     "data": {
      "text/plain": [
       "<tf.Tensor: shape=(2, 2, 1), dtype=int32, numpy=\n",
       "array([[[2],\n",
       "        [3]],\n",
       "\n",
       "       [[3],\n",
       "        [3]]], dtype=int32)>"
      ]
     },
     "execution_count": 63,
     "metadata": {},
     "output_type": "execute_result"
    }
   ],
   "source": [
    "# Add axis using expand_dims\n",
    "tensor_exp = tf.expand_dims(rank2_tensor, axis=-1) # -1 means expand the final axis\n",
    "tensor_exp"
   ]
  },
  {
   "cell_type": "markdown",
   "id": "6745da3c-efa7-419f-ab8d-e82687389aa8",
   "metadata": {},
   "source": [
    "> 👆 we got the exact same output"
   ]
  },
  {
   "cell_type": "code",
   "execution_count": 64,
   "id": "3e47d880-688e-412b-92e9-9ac266dc4ebd",
   "metadata": {},
   "outputs": [
    {
     "data": {
      "text/plain": [
       "<tf.Tensor: shape=(1, 2, 2), dtype=int32, numpy=\n",
       "array([[[2, 3],\n",
       "        [3, 3]]], dtype=int32)>"
      ]
     },
     "execution_count": 64,
     "metadata": {},
     "output_type": "execute_result"
    }
   ],
   "source": [
    "# Expand the 0-axis\n",
    "tensor_exp1 = tf.expand_dims(rank2_tensor, axis=0) \n",
    "tensor_exp1"
   ]
  },
  {
   "cell_type": "markdown",
   "id": "d6e2328b-c6ea-4c19-a592-491cd65cc21e",
   "metadata": {},
   "source": [
    "## Manipulating tensors (tensor operations)\n",
    "### I. Basic operaitons\n",
    "- Addition ➕ \n",
    "- Multiplication ✖ \n",
    "- Subtractions ➖ \n",
    "- Division ➗ "
   ]
  },
  {
   "cell_type": "code",
   "execution_count": 66,
   "id": "353422c8-5c94-4ed7-b81c-b79d8cc77cd1",
   "metadata": {},
   "outputs": [
    {
     "data": {
      "text/plain": [
       "<tf.Tensor: shape=(2, 2), dtype=int32, numpy=\n",
       "array([[3, 8],\n",
       "       [6, 5]], dtype=int32)>"
      ]
     },
     "execution_count": 66,
     "metadata": {},
     "output_type": "execute_result"
    }
   ],
   "source": [
    "tensor = tf.random.uniform([2,2], minval=2, maxval=9, dtype=tf.int32, seed=7)\n",
    "tensor"
   ]
  },
  {
   "cell_type": "code",
   "execution_count": 68,
   "id": "22d590a9-cb17-4f15-86cf-5e6da093df28",
   "metadata": {},
   "outputs": [
    {
     "data": {
      "text/plain": [
       "(<tf.Tensor: shape=(2, 2), dtype=int32, numpy=\n",
       " array([[13, 18],\n",
       "        [16, 15]], dtype=int32)>,\n",
       " <tf.Tensor: shape=(2, 2), dtype=int32, numpy=\n",
       " array([[-17, -12],\n",
       "        [-14, -15]], dtype=int32)>,\n",
       " <tf.Tensor: shape=(2, 2), dtype=int32, numpy=\n",
       " array([[ 6, 16],\n",
       "        [12, 10]], dtype=int32)>,\n",
       " <tf.Tensor: shape=(2, 2), dtype=float64, numpy=\n",
       " array([[1.        , 2.66666667],\n",
       "        [2.        , 1.66666667]])>)"
      ]
     },
     "execution_count": 68,
     "metadata": {},
     "output_type": "execute_result"
    }
   ],
   "source": [
    "tensor+10, tensor-20, tensor*2, tensor/3"
   ]
  },
  {
   "cell_type": "markdown",
   "id": "77ae3aa6-57af-407f-b297-126949dbf9f0",
   "metadata": {},
   "source": [
    ">To run on GPU/ speed up the operation for large tensors use built-in functions\n",
    "\n",
    "- `tf.math.divide` or `tf.divide` similarly for other operations. ➡ **[tf.math.add](https://www.tensorflow.org/api_docs/python/tf/math/add)**"
   ]
  },
  {
   "cell_type": "code",
   "execution_count": 70,
   "id": "cb0e6ece-50fa-48c2-9f80-a8d117676e0e",
   "metadata": {},
   "outputs": [
    {
     "data": {
      "text/plain": [
       "(<tf.Tensor: shape=(2, 2), dtype=int32, numpy=\n",
       " array([[13, 18],\n",
       "        [16, 15]], dtype=int32)>,\n",
       " <tf.Tensor: shape=(2, 2), dtype=int32, numpy=\n",
       " array([[-17, -12],\n",
       "        [-14, -15]], dtype=int32)>,\n",
       " <tf.Tensor: shape=(2, 2), dtype=int32, numpy=\n",
       " array([[ 6, 16],\n",
       "        [12, 10]], dtype=int32)>,\n",
       " <tf.Tensor: shape=(2, 2), dtype=float64, numpy=\n",
       " array([[1.        , 2.66666667],\n",
       "        [2.        , 1.66666667]])>)"
      ]
     },
     "execution_count": 70,
     "metadata": {},
     "output_type": "execute_result"
    }
   ],
   "source": [
    "tf.add(tensor, 10), tf.subtract(tensor, 20), tf.multiply(tensor, 2), tf.divide(tensor, 3)"
   ]
  },
  {
   "cell_type": "markdown",
   "id": "6324b4d5-7165-4f91-93b9-ea8157179d83",
   "metadata": {},
   "source": [
    "### II. Matrix multiplication\n",
    "In machine learning, matrix multiplication is one of the most common tensor operation.\n",
    "#### II(a): Matrix multiplication using transpose of a tenosr matrix\n",
    "$\\implies$ **Syntax**: `tf.linalg.matmul` or **[tf.matmul](https://www.tensorflow.org/api_docs/python/tf/linalg/matmul)**"
   ]
  },
  {
   "cell_type": "code",
   "execution_count": 72,
   "id": "936ae1b0-961d-41e0-93d8-5d6dfc33df71",
   "metadata": {},
   "outputs": [
    {
     "data": {
      "text/plain": [
       "(array([[2, 4],\n",
       "        [3, 8]], dtype=int32),\n",
       " array([[6, 2],\n",
       "        [6, 3]], dtype=int32))"
      ]
     },
     "execution_count": 72,
     "metadata": {},
     "output_type": "execute_result"
    }
   ],
   "source": [
    "# lets generate two random tensors\n",
    "A = tf.random.uniform([2,2], minval=2, maxval=9, dtype=tf.int32, seed=7)\n",
    "B = tf.random.uniform([2,2], minval=2, maxval=9, dtype=tf.int32, seed=7)\n",
    "A.numpy(), B.numpy()"
   ]
  },
  {
   "cell_type": "code",
   "execution_count": 73,
   "id": "27d2d7b8-e857-49e4-a952-8bee37fa7218",
   "metadata": {},
   "outputs": [
    {
     "data": {
      "text/plain": [
       "<tf.Tensor: shape=(2, 2), dtype=int32, numpy=\n",
       "array([[36, 16],\n",
       "       [66, 30]], dtype=int32)>"
      ]
     },
     "execution_count": 73,
     "metadata": {},
     "output_type": "execute_result"
    }
   ],
   "source": [
    "# multiply using matmul\n",
    "C = tf.linalg.matmul(A, B)\n",
    "C"
   ]
  },
  {
   "cell_type": "code",
   "execution_count": 76,
   "id": "d8407156-4bca-4eac-a32f-e45a3aa2b931",
   "metadata": {},
   "outputs": [
    {
     "data": {
      "text/plain": [
       "(array([[7, 8],\n",
       "        [5, 2],\n",
       "        [7, 7]], dtype=int32),\n",
       " array([[6, 2],\n",
       "        [5, 2],\n",
       "        [6, 5]], dtype=int32))"
      ]
     },
     "execution_count": 76,
     "metadata": {},
     "output_type": "execute_result"
    }
   ],
   "source": [
    "# Take another example of tensor matrx multiplication\n",
    "X = tf.random.uniform([3, 2], minval=2, maxval=9, dtype=tf.int32, seed=7)\n",
    "Y = tf.random.uniform([3, 2], minval=2, maxval=9, dtype=tf.int32, seed=7)\n",
    "Y.numpy(), X.numpy()"
   ]
  },
  {
   "cell_type": "code",
   "execution_count": 79,
   "id": "3087fec7-3e28-4eca-bdbe-a1ae80236485",
   "metadata": {},
   "outputs": [
    {
     "data": {
      "text/plain": [
       "<tf.Tensor: shape=(3, 3), dtype=int32, numpy=\n",
       "array([[58, 34, 56],\n",
       "       [51, 29, 49],\n",
       "       [82, 40, 77]], dtype=int32)>"
      ]
     },
     "execution_count": 79,
     "metadata": {},
     "output_type": "execute_result"
    }
   ],
   "source": [
    "# We need to take transpose of a matrix to perform the multiplication since inner dimensions are not same\n",
    "tf.matmul(X, tf.transpose(Y))"
   ]
  },
  {
   "cell_type": "markdown",
   "id": "eba90d79-a536-409d-852f-76d8d9097154",
   "metadata": {},
   "source": [
    "**Another method can be done by changing the shape a matrix s.t. inner dimensions match.**\n",
    "#### II(b): Matrix multiplication using reshape\n",
    "$\\implies$ **Syntax**: `tf.linalg.matmul` or **[tf.matmul](https://www.tensorflow.org/api_docs/python/tf/reshape)**\n",
    ">**Note:** reshape $\\ne$ transpose"
   ]
  },
  {
   "cell_type": "code",
   "execution_count": 80,
   "id": "ea144e99-3cf6-4b7d-a5e8-835bbe87974e",
   "metadata": {},
   "outputs": [
    {
     "data": {
      "text/plain": [
       "<tf.Tensor: shape=(3, 3), dtype=int32, numpy=\n",
       "array([[46, 62, 44],\n",
       "       [39, 54, 39],\n",
       "       [52, 83, 65]], dtype=int32)>"
      ]
     },
     "execution_count": 80,
     "metadata": {},
     "output_type": "execute_result"
    }
   ],
   "source": [
    "# this is just to exit multiplication\n",
    "tf.matmul(X, tf.reshape(Y, shape=[2,3]))"
   ]
  },
  {
   "cell_type": "markdown",
   "id": "875858ea-35be-43bf-9dde-1924ae410c71",
   "metadata": {},
   "source": [
    "**🗝 Note:** Since python >= 3.5 the `@` operator is supported (PEP 465). In TensorFlow, it simply calls the `tf.matmul()` function, so the following lines are equivalent:"
   ]
  },
  {
   "cell_type": "code",
   "execution_count": 81,
   "id": "461c9cbf-0d5d-4ff4-b907-f9f75dd0cd4c",
   "metadata": {},
   "outputs": [
    {
     "data": {
      "text/plain": [
       "<tf.Tensor: shape=(3, 3), dtype=int32, numpy=\n",
       "array([[46, 62, 44],\n",
       "       [39, 54, 39],\n",
       "       [52, 83, 65]], dtype=int32)>"
      ]
     },
     "execution_count": 81,
     "metadata": {},
     "output_type": "execute_result"
    }
   ],
   "source": [
    "X @ tf.reshape(Y, shape=[2,3])"
   ]
  },
  {
   "cell_type": "code",
   "execution_count": 82,
   "id": "e9e69527-65ac-44ea-8082-72a2cefe968f",
   "metadata": {},
   "outputs": [
    {
     "data": {
      "text/plain": [
       "<tf.Tensor: shape=(2, 2), dtype=int32, numpy=\n",
       "array([[87, 87],\n",
       "       [79, 63]], dtype=int32)>"
      ]
     },
     "execution_count": 82,
     "metadata": {},
     "output_type": "execute_result"
    }
   ],
   "source": [
    "# Perform matrix multiplication between X reshaped and Y\n",
    "tf.matmul(tf.reshape(X, shape=[2, 3]), Y)"
   ]
  },
  {
   "cell_type": "markdown",
   "id": "5ecf1db2-d8fd-4b60-8403-6caf2894cb0d",
   "metadata": {},
   "source": [
    "#### II(c): Tensordot (also known as tensor contraction) sums the product of elements\n",
    "$\\implies$**Syntax**: `tf.linalg.tensordot` or **[tf.tensordot](https://www.tensorflow.org/api_docs/python/tf/tensordot)**\n",
    "\n",
    "| Feature | `tf.tensordot(X, Y, axes)` | `tf.matmul(X, Y)` |\n",
    "|---|---|---|\n",
    "| **Purpose** | Computes **generalized dot products** with customizable axes. | Performs **standard matrix multiplication**. |\n",
    "| **Axes Required?** | Yes, you **must specify `axes`** for contraction. | No, it directly multiplies matrices following standard rules. |\n",
    "| **Usage** | Use `tf.tensordot()` for **more complex contractions**, where you define which axes to sum over. | Use `tf.matmul()` when performing **standard matrix multiplication** (dot product along the second axis of the first tensor and first axis of the second). |\n",
    "| **Shape Constraints** | Can work with tensors of **any rank**. | Requires valid matrix dimensions: `(M, N) * (N, P) → (M, P)`. |"
   ]
  },
  {
   "cell_type": "code",
   "execution_count": 86,
   "id": "c9a3164d-9866-43cf-aa8f-4f6066ec4a23",
   "metadata": {},
   "outputs": [
    {
     "data": {
      "text/plain": [
       "<tf.Tensor: shape=(3, 3), dtype=int32, numpy=\n",
       "array([[58, 34, 56],\n",
       "       [51, 29, 49],\n",
       "       [82, 40, 77]], dtype=int32)>"
      ]
     },
     "execution_count": 86,
     "metadata": {},
     "output_type": "execute_result"
    }
   ],
   "source": [
    "# Lets do the dot product of tensor matrix X and Y transposed\n",
    "tf.tensordot(X, tf.transpose(Y), axes=1)"
   ]
  },
  {
   "cell_type": "code",
   "execution_count": 88,
   "id": "206689f8-c964-42dd-a866-c3f8684ffe70",
   "metadata": {},
   "outputs": [
    {
     "data": {
      "text/plain": [
       "<tf.Tensor: shape=(3, 2, 3, 2), dtype=int32, numpy=\n",
       "array([[[[42, 48],\n",
       "         [30, 12],\n",
       "         [42, 42]],\n",
       "\n",
       "        [[14, 16],\n",
       "         [10,  4],\n",
       "         [14, 14]]],\n",
       "\n",
       "\n",
       "       [[[35, 40],\n",
       "         [25, 10],\n",
       "         [35, 35]],\n",
       "\n",
       "        [[14, 16],\n",
       "         [10,  4],\n",
       "         [14, 14]]],\n",
       "\n",
       "\n",
       "       [[[42, 48],\n",
       "         [30, 12],\n",
       "         [42, 42]],\n",
       "\n",
       "        [[35, 40],\n",
       "         [25, 10],\n",
       "         [35, 35]]]], dtype=int32)>"
      ]
     },
     "execution_count": 88,
     "metadata": {},
     "output_type": "execute_result"
    }
   ],
   "source": [
    "tf.tensordot(X, Y, axes=0)"
   ]
  },
  {
   "cell_type": "markdown",
   "id": "e1e699d2-8aa9-4076-aa95-1c8f63ff4092",
   "metadata": {},
   "source": [
    "## Changing the datatype of a tensor using `tf.cast`\n",
    "**Signature**: `tf.dtype.cast` or **[tf.cast](https://www.tensorflow.org/api_docs/python/tf/cast)**\n",
    ">Reducing the datatypes decreases the precision of a numbers."
   ]
  },
  {
   "cell_type": "code",
   "execution_count": 91,
   "id": "750e65e4-f3d6-43d9-9eb8-c67eb30d0ef9",
   "metadata": {},
   "outputs": [
    {
     "data": {
      "text/plain": [
       "tf.int32"
      ]
     },
     "execution_count": 91,
     "metadata": {},
     "output_type": "execute_result"
    }
   ],
   "source": [
    "# Create a tensor\n",
    "A = tf.constant([1, 2, 3, 4])\n",
    "A.dtype"
   ]
  },
  {
   "cell_type": "code",
   "execution_count": 92,
   "id": "5d8777bc-1910-4ef7-bbe6-f37cd9c952f5",
   "metadata": {},
   "outputs": [
    {
     "data": {
      "text/plain": [
       "tf.int16"
      ]
     },
     "execution_count": 92,
     "metadata": {},
     "output_type": "execute_result"
    }
   ],
   "source": [
    "# change the datatype\n",
    "B = tf.cast(A, tf.int16)\n",
    "B.dtype"
   ]
  },
  {
   "cell_type": "code",
   "execution_count": 94,
   "id": "440d8cc9-e15e-46f7-9283-c7cdfab784fd",
   "metadata": {},
   "outputs": [
    {
     "data": {
      "text/plain": [
       "<tf.Tensor: shape=(4,), dtype=float32, numpy=array([1., 2., 3., 4.], dtype=float32)>"
      ]
     },
     "execution_count": 94,
     "metadata": {},
     "output_type": "execute_result"
    }
   ],
   "source": [
    "# change the datatype to float\n",
    "tf.cast(A, tf.float32)"
   ]
  },
  {
   "cell_type": "markdown",
   "id": "1a99c7cf-c232-4313-b576-09b7907fa37f",
   "metadata": {},
   "source": [
    "## Aggregating tensors\n",
    "In the context of **machine learning (ML) and deep learning (DL)**, **aggregators** refer to functions or mechanisms that **combine multiple values** into a **single result**. They are essential in summarizing data, making computations more efficient, and guiding optimization processes.\n",
    "\n",
    "### **Types of Aggregators in ML/DL**\n",
    "1. **Statistical Aggregators**  \n",
    "   - Summarize numerical data from multiple sources.  \n",
    "   - Examples:  \n",
    "     - `tf.abs(tensor)`\n",
    "     - `tf.reduce_sum(tensor)` or `tf.math.reduce_sum`\n",
    "     - `tf.reduce_mean(tensor)` or `tf.math.reduce_mean`\n",
    "     - `tf.reduce_max(tensor)` or `tf.math.reduce_max`\n",
    "     - `tf.reduce_min(tensor)` or `tf.math.reduce_min`\n",
    "     - `tf.math.reduce_std` or `tfp.stats.std` where import tensorflow_probability as tfp\n",
    "     - `tf.math.reduce_variance` or `tfp.stats.variance` where import tensorflow_probability as tfp  \n",
    "\n",
    "2. **Gradient Aggregators**  \n",
    "   - Used in **backpropagation** to compute weight updates across batches.  \n",
    "   - Example: Aggregating gradients from mini-batches before updating the model.\n",
    "\n",
    "3. **Attention Aggregators (Neural Networks)**  \n",
    "   - Used in **Transformer models** (like GPT, BERT) to aggregate attention scores from multiple input tokens.  \n",
    "   - Example: Softmax-weighted sum of input embeddings in attention mechanisms.\n",
    "\n",
    "4. **Ensemble Aggregators**  \n",
    "   - Used in **ensemble learning** to combine predictions from multiple models.  \n",
    "   - Examples:  \n",
    "     - Majority Voting (classification)  \n",
    "     - Averaging (regression)  "
   ]
  },
  {
   "cell_type": "code",
   "execution_count": 109,
   "id": "0d112449-8965-4b39-af8c-5410d2e0d0ef",
   "metadata": {},
   "outputs": [
    {
     "data": {
      "text/plain": [
       "<tf.Tensor: shape=(8, 8), dtype=int32, numpy=\n",
       "array([[ 36,  26,  -5, -40,  18, -25,  -6,  10],\n",
       "       [  3,  -6, -46,  33, -32, -10,  46,  40],\n",
       "       [ 28, -28, -14, -35,  12,  21, -19, -32],\n",
       "       [ 48, -34,  32,  43, -16, -15,  27,   3],\n",
       "       [-33, -33, -35, -22,  47,  49,  35, -27],\n",
       "       [-10,  32,  15,  35, -45,   5, -22,  48],\n",
       "       [ 24,  24,  22,  -4, -14, -42,  18, -45],\n",
       "       [-45,  -2, -13,   1,  43, -46,  48, -47]], dtype=int32)>"
      ]
     },
     "execution_count": 109,
     "metadata": {},
     "output_type": "execute_result"
    }
   ],
   "source": [
    "# Example Tensor\n",
    "tensor = tf.constant(np.random.randint(-50, 50, size=64))\n",
    "tensor = tf.reshape(tensor, [8, 8])\n",
    "tensor"
   ]
  },
  {
   "cell_type": "code",
   "execution_count": 118,
   "id": "1ef92c52-34b9-4aea-91fe-45252437ee9c",
   "metadata": {},
   "outputs": [],
   "source": [
    "# Aggregating values\n",
    "absolute = tf.abs(tensor)\n",
    "sum_result = tf.reduce_sum(tensor)  \n",
    "mean_result = tf.reduce_mean(tensor)\n",
    "min_result = tf.reduce_min(tensor)\n",
    "max_result = tf.reduce_max(tensor)\n",
    "variance = tf.math.reduce_variance(tf.cast(tensor, tf.float32)) # convert it to float type since takes input of real numbers\n",
    "standard_deviation = tf.math.reduce_std(tf.cast(tensor, tf.float32))"
   ]
  },
  {
   "cell_type": "code",
   "execution_count": 119,
   "id": "63ebb5cb-94b4-41f8-9621-6ed81271224f",
   "metadata": {},
   "outputs": [
    {
     "name": "stdout",
     "output_type": "stream",
     "text": [
      "Absolute:\n",
      " [[36 26  5 40 18 25  6 10]\n",
      " [ 3  6 46 33 32 10 46 40]\n",
      " [28 28 14 35 12 21 19 32]\n",
      " [48 34 32 43 16 15 27  3]\n",
      " [33 33 35 22 47 49 35 27]\n",
      " [10 32 15 35 45  5 22 48]\n",
      " [24 24 22  4 14 42 18 45]\n",
      " [45  2 13  1 43 46 48 47]]\n",
      "Min: -47\n",
      "Max: 49\n",
      "Sum: 24\n",
      "Mean: 0\n",
      "Variance: 933.9844\n",
      "Standard Deviation: 30.561157\n"
     ]
    }
   ],
   "source": [
    "print(\"Absolute:\\n\", absolute.numpy())\n",
    "print(\"Min:\", min_result.numpy())\n",
    "print(\"Max:\", max_result.numpy())\n",
    "print(\"Sum:\", sum_result.numpy())\n",
    "print(\"Mean:\", mean_result.numpy())\n",
    "print(\"Variance:\", variance.numpy())\n",
    "print(\"Standard Deviation:\", standard_deviation.numpy())"
   ]
  },
  {
   "cell_type": "markdown",
   "id": "a608ec72-5cd4-4bbb-8287-85f56b7a84ab",
   "metadata": {},
   "source": [
    "## Find the positional maximum and minimum\n",
    "The **positional maximum** and **positional minimum** refer to the locations (indices) of the **maximum** and **minimum** values within a tensor. In TensorFlow, you can find these using:\n",
    "| **Function** | **Purpose** |\n",
    "|-------------|------------|\n",
    "| `tf.argmax(tensor, axis)` | Returns the index of the maximum value along a given axis |\n",
    "| `tf.argmin(tensor, axis)` | Returns the index of the minimum value along a given axis |"
   ]
  },
  {
   "cell_type": "code",
   "execution_count": 123,
   "id": "d2133382-5d48-452c-b17c-fe4f82e5532e",
   "metadata": {},
   "outputs": [],
   "source": [
    "# Find positional maximum and minimum along axis 1 (row-wise)\n",
    "max_indices = tf.argmax(tensor, axis=1)  # Index of max value in each row\n",
    "min_indices = tf.argmin(tensor, axis=1)  # Index of min value in each row"
   ]
  },
  {
   "cell_type": "code",
   "execution_count": 124,
   "id": "5674f8ad-fd61-4c3b-ae58-50cede54ce8d",
   "metadata": {},
   "outputs": [
    {
     "name": "stdout",
     "output_type": "stream",
     "text": [
      "Tensor:\n",
      " [[ 36  26  -5 -40  18 -25  -6  10]\n",
      " [  3  -6 -46  33 -32 -10  46  40]\n",
      " [ 28 -28 -14 -35  12  21 -19 -32]\n",
      " [ 48 -34  32  43 -16 -15  27   3]\n",
      " [-33 -33 -35 -22  47  49  35 -27]\n",
      " [-10  32  15  35 -45   5 -22  48]\n",
      " [ 24  24  22  -4 -14 -42  18 -45]\n",
      " [-45  -2 -13   1  43 -46  48 -47]]\n",
      "Max Position Indices: [0 6 0 0 5 7 0 6]\n",
      "Min Position Indices: [3 2 3 1 2 4 7 7]\n"
     ]
    }
   ],
   "source": [
    "print(\"Tensor:\\n\", tensor.numpy())\n",
    "print(\"Max Position Indices:\", max_indices.numpy())  # Output: [1, 2]\n",
    "print(\"Min Position Indices:\", min_indices.numpy())  # Output: [2, 1]"
   ]
  },
  {
   "cell_type": "code",
   "execution_count": 129,
   "id": "e89e5580-c4de-4962-8665-bdc952c9ecc6",
   "metadata": {},
   "outputs": [],
   "source": [
    "# Find the overall max and min positional values\n",
    "overall_max_index = tf.argmax(tf.reshape(tensor, [-1])) # Flatten the tensor and get overall argmax\n",
    "overall_min_index = tf.argmin(tf.reshape(tensor, [-1])) # Flatten the tensor and get overall argmin\n",
    "tf.reshape(tensor, [-1])[overall_max_index] == tf.reduce_max(tf.reshape(tensor, [-1]))\n",
    "assert tf.reshape(tensor, [-1])[overall_min_index] == tf.reduce_min(tf.reshape(tensor, [-1]))"
   ]
  },
  {
   "cell_type": "markdown",
   "id": "881b59d6-59c4-4a12-96ae-03a2e2fe52a3",
   "metadata": {},
   "source": [
    ">Note: **Use `tf.gather()` Instead of Direct Indexing**\n",
    "- TensorFlow **does not allow** direct indexing on tensors like NumPy (`tensor[index]`).\n",
    "- `tf.gather()` is the correct way to **fetch elements by index** in TensorFlow.\n"
   ]
  },
  {
   "cell_type": "markdown",
   "id": "7abd698e-130b-4e0f-ae41-b8f9876967e0",
   "metadata": {},
   "source": [
    "## Squeezing a tensor: remove all **singleton dimensions** (dimensions with size `1`).\n",
    "This is useful when you have unnecessary extra dimensions that don’t carry any information and you want to simplify the tensor shape.\n",
    "\n",
    " - **Signature:** `tf.squeeze()`\n"
   ]
  },
  {
   "cell_type": "code",
   "execution_count": 130,
   "id": "600e62c9-729c-4ce5-a05b-fa0594683ac6",
   "metadata": {},
   "outputs": [
    {
     "data": {
      "text/plain": [
       "<tf.Tensor: shape=(1, 1, 1, 24, 1), dtype=float32, numpy=\n",
       "array([[[[[ 8.305319 ],\n",
       "          [14.736302 ],\n",
       "          [ 9.158327 ],\n",
       "          [ 8.556081 ],\n",
       "          [13.738097 ],\n",
       "          [18.751696 ],\n",
       "          [ 9.115873 ],\n",
       "          [18.608292 ],\n",
       "          [ 3.108357 ],\n",
       "          [12.848146 ],\n",
       "          [14.04483  ],\n",
       "          [12.017685 ],\n",
       "          [14.425882 ],\n",
       "          [ 9.267995 ],\n",
       "          [ 5.0534716],\n",
       "          [15.717931 ],\n",
       "          [ 6.8860636],\n",
       "          [ 2.9985175],\n",
       "          [ 7.9140534],\n",
       "          [14.921027 ],\n",
       "          [ 6.069438 ],\n",
       "          [18.644289 ],\n",
       "          [ 8.900104 ],\n",
       "          [ 5.51715  ]]]]], dtype=float32)>"
      ]
     },
     "execution_count": 130,
     "metadata": {},
     "output_type": "execute_result"
    }
   ],
   "source": [
    "# Create a tensor\n",
    "Z = tf.constant(tf.random.uniform([1,1,1,24,1], 2, 19, seed=5))\n",
    "Z"
   ]
  },
  {
   "cell_type": "code",
   "execution_count": 131,
   "id": "17af257b-49c3-4acf-b9d6-e576045545b3",
   "metadata": {},
   "outputs": [
    {
     "data": {
      "text/plain": [
       "TensorShape([1, 1, 1, 24, 1])"
      ]
     },
     "execution_count": 131,
     "metadata": {},
     "output_type": "execute_result"
    }
   ],
   "source": [
    "# check the shape\n",
    "Z.shape"
   ]
  },
  {
   "cell_type": "code",
   "execution_count": 132,
   "id": "4d384a49-c733-44a8-80b5-0630de782653",
   "metadata": {},
   "outputs": [
    {
     "data": {
      "text/plain": [
       "<tf.Tensor: shape=(24,), dtype=float32, numpy=\n",
       "array([ 8.305319 , 14.736302 ,  9.158327 ,  8.556081 , 13.738097 ,\n",
       "       18.751696 ,  9.115873 , 18.608292 ,  3.108357 , 12.848146 ,\n",
       "       14.04483  , 12.017685 , 14.425882 ,  9.267995 ,  5.0534716,\n",
       "       15.717931 ,  6.8860636,  2.9985175,  7.9140534, 14.921027 ,\n",
       "        6.069438 , 18.644289 ,  8.900104 ,  5.51715  ], dtype=float32)>"
      ]
     },
     "execution_count": 132,
     "metadata": {},
     "output_type": "execute_result"
    }
   ],
   "source": [
    "# Squeeze the tensor\n",
    "Z_squeezed = tf.squeeze(Z)\n",
    "Z_squeezed"
   ]
  },
  {
   "cell_type": "markdown",
   "id": "2cf2e026-df99-4b56-b5e6-ddd08c78cfd1",
   "metadata": {},
   "source": [
    "## One-Hot encoding\n",
    "**One-Hot Encoding** is a technique used to convert categorical data into a binary matrix representation. In TensorFlow, you can achieve this using `tf.one_hot()`.\n",
    "\n",
    "### **How Does One-Hot Encoding Work?**\n",
    "- Each unique category is assigned an **integer index**.\n",
    "- A **binary vector** is created where only the index corresponding to that category is `1`, and all others are `0`."
   ]
  },
  {
   "cell_type": "code",
   "execution_count": 135,
   "id": "377850c4-46dc-45c3-ab02-78ebc37788d3",
   "metadata": {},
   "outputs": [],
   "source": [
    "# create a list of indices\n",
    "mylist = range(4) # could be red, green, purple, blue"
   ]
  },
  {
   "cell_type": "code",
   "execution_count": 136,
   "id": "02b45360-4d38-4f92-a170-e285c4f7f0e4",
   "metadata": {},
   "outputs": [
    {
     "data": {
      "text/plain": [
       "<tf.Tensor: shape=(4, 4), dtype=float32, numpy=\n",
       "array([[1., 0., 0., 0.],\n",
       "       [0., 1., 0., 0.],\n",
       "       [0., 0., 1., 0.],\n",
       "       [0., 0., 0., 1.]], dtype=float32)>"
      ]
     },
     "execution_count": 136,
     "metadata": {},
     "output_type": "execute_result"
    }
   ],
   "source": [
    "# one hot ecode our list of indices\n",
    "tf.one_hot(mylist, depth=4) # depth = 4 = len(mylist)"
   ]
  },
  {
   "cell_type": "code",
   "execution_count": 137,
   "id": "5e2ab85e-a89d-49b5-b6a1-545302fbf00e",
   "metadata": {},
   "outputs": [
    {
     "data": {
      "text/plain": [
       "<tf.Tensor: shape=(4, 4), dtype=string, numpy=\n",
       "array([[b'I love DL', b'I like ML', b'I like ML', b'I like ML'],\n",
       "       [b'I like ML', b'I love DL', b'I like ML', b'I like ML'],\n",
       "       [b'I like ML', b'I like ML', b'I love DL', b'I like ML'],\n",
       "       [b'I like ML', b'I like ML', b'I like ML', b'I love DL']],\n",
       "      dtype=object)>"
      ]
     },
     "execution_count": 137,
     "metadata": {},
     "output_type": "execute_result"
    }
   ],
   "source": [
    "# Specify custom values for one hot encoding\n",
    "tf.one_hot(mylist, depth=4, on_value=\"I love DL\", off_value=\"I like ML\")"
   ]
  },
  {
   "cell_type": "markdown",
   "id": "57d08093-b604-497a-8366-7731568e4b34",
   "metadata": {},
   "source": [
    "## Some mathematical functions\n",
    "- tf.math.log\n",
    "- tf.math.square\n",
    "- tf.math.sqrt\n",
    "- tf.math.sin\n",
    "  etc...\n",
    "> Most function takes input as non-int type so better take float datatype."
   ]
  },
  {
   "cell_type": "code",
   "execution_count": 139,
   "id": "55831556-cbdb-4d26-b016-403bc18ecfe9",
   "metadata": {},
   "outputs": [
    {
     "data": {
      "text/plain": [
       "<tf.Tensor: shape=(9,), dtype=float32, numpy=array([1., 2., 3., 4., 5., 6., 7., 8., 9.], dtype=float32)>"
      ]
     },
     "execution_count": 139,
     "metadata": {},
     "output_type": "execute_result"
    }
   ],
   "source": [
    "# Create a tensor\n",
    "K = tf.range(1, 10)\n",
    "K = tf.cast(K, tf.float32)\n",
    "K"
   ]
  },
  {
   "cell_type": "code",
   "execution_count": 140,
   "id": "32d0fdb5-fe67-45c6-9830-600b2f13d577",
   "metadata": {},
   "outputs": [
    {
     "data": {
      "text/plain": [
       "(<tf.Tensor: shape=(9,), dtype=float32, numpy=\n",
       " array([0.       , 0.6931472, 1.0986123, 1.3862944, 1.609438 , 1.7917595,\n",
       "        1.9459102, 2.0794415, 2.1972246], dtype=float32)>,\n",
       " <tf.Tensor: shape=(9,), dtype=float32, numpy=array([ 1.,  4.,  9., 16., 25., 36., 49., 64., 81.], dtype=float32)>,\n",
       " <tf.Tensor: shape=(9,), dtype=float32, numpy=\n",
       " array([1.       , 1.4142135, 1.7320508, 2.       , 2.236068 , 2.4494898,\n",
       "        2.6457512, 2.828427 , 3.       ], dtype=float32)>,\n",
       " <tf.Tensor: shape=(9,), dtype=float32, numpy=\n",
       " array([ 0.84147096,  0.9092974 ,  0.14112   , -0.7568025 , -0.9589243 ,\n",
       "        -0.2794155 ,  0.6569866 ,  0.98935825,  0.4121185 ], dtype=float32)>)"
      ]
     },
     "execution_count": 140,
     "metadata": {},
     "output_type": "execute_result"
    }
   ],
   "source": [
    "tf.math.log(K), tf.math.square(K), tf.math.sqrt(K), tf.math.sin(K)"
   ]
  },
  {
   "cell_type": "markdown",
   "id": "a86afd2c-069c-4412-a0dd-b6a21b2f1543",
   "metadata": {},
   "source": [
    "## Tensors and NumPy\n",
    "TensorFlow interact beautifully with NumPy arrays."
   ]
  },
  {
   "cell_type": "code",
   "execution_count": 142,
   "id": "ee1c4fd1-b4ab-48f4-9318-6b38882a540e",
   "metadata": {},
   "outputs": [
    {
     "data": {
      "text/plain": [
       "<tf.Tensor: shape=(3,), dtype=float64, numpy=array([1., 4., 9.])>"
      ]
     },
     "execution_count": 142,
     "metadata": {},
     "output_type": "execute_result"
    }
   ],
   "source": [
    "# Create a tensor directly from a NumPy array\n",
    "J = tf.constant(np.array([1., 4., 9.]))\n",
    "J"
   ]
  },
  {
   "cell_type": "code",
   "execution_count": 143,
   "id": "d6e21b08-e6bf-474d-be9a-fb5bf13d3621",
   "metadata": {},
   "outputs": [
    {
     "data": {
      "text/plain": [
       "(array([1., 4., 9.]), numpy.ndarray)"
      ]
     },
     "execution_count": 143,
     "metadata": {},
     "output_type": "execute_result"
    }
   ],
   "source": [
    "# Convert the tensor back to a NumPy array\n",
    "np.array(J), type(np.array(J))"
   ]
  },
  {
   "cell_type": "code",
   "execution_count": 144,
   "id": "aae4e831-d7bd-4d54-ad9b-31e7d8eba824",
   "metadata": {},
   "outputs": [
    {
     "data": {
      "text/plain": [
       "(array([1., 4., 9.]), numpy.ndarray)"
      ]
     },
     "execution_count": 144,
     "metadata": {},
     "output_type": "execute_result"
    }
   ],
   "source": [
    "# Convert tensor J to a NumPy array\n",
    "J.numpy(), type(J.numpy())"
   ]
  },
  {
   "cell_type": "code",
   "execution_count": 145,
   "id": "1502cecb-2368-414f-8228-41165c693b0c",
   "metadata": {},
   "outputs": [
    {
     "data": {
      "text/plain": [
       "np.float64(1.0)"
      ]
     },
     "execution_count": 145,
     "metadata": {},
     "output_type": "execute_result"
    }
   ],
   "source": [
    "# do slicing \n",
    "J.numpy()[0]"
   ]
  },
  {
   "cell_type": "code",
   "execution_count": 147,
   "id": "aff79fe2-65e4-469e-a363-b20a0778db81",
   "metadata": {},
   "outputs": [
    {
     "data": {
      "text/plain": [
       "(tf.float64, tf.float32)"
      ]
     },
     "execution_count": 147,
     "metadata": {},
     "output_type": "execute_result"
    }
   ],
   "source": [
    "# The default types of each are slightly different\n",
    "np_tensor = tf.constant(np.array([1., 4., 9.]))\n",
    "tf_tensor = tf.constant ([1., 4., 9.])\n",
    "np_tensor.dtype, tf_tensor.dtype"
   ]
  },
  {
   "cell_type": "markdown",
   "id": "c1bd9c59-207e-4461-9ab4-096a9707f2b8",
   "metadata": {},
   "source": [
    "**🗝 Note:** you can see both are of different type "
   ]
  }
 ],
 "metadata": {
  "kernelspec": {
   "display_name": "tfenv",
   "language": "python",
   "name": "tfenv"
  },
  "language_info": {
   "codemirror_mode": {
    "name": "ipython",
    "version": 3
   },
   "file_extension": ".py",
   "mimetype": "text/x-python",
   "name": "python",
   "nbconvert_exporter": "python",
   "pygments_lexer": "ipython3",
   "version": "3.10.16"
  }
 },
 "nbformat": 4,
 "nbformat_minor": 5
}
