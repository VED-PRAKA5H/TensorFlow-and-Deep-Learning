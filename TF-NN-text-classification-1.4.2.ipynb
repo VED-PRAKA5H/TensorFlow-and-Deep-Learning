{
 "cells": [
  {
   "cell_type": "markdown",
   "id": "20d9b40a-5d5e-450d-aefe-a214c54f9005",
   "metadata": {},
   "source": [
    "# Neural Network Text Classification with TensorFlow\n",
    "**Dataset**: [Wine Reviews - Kaggle](https://www.kaggle.com/datasets/zynicide/wine-reviews/data?select=winemag-data_first150k.csv)"
   ]
  },
  {
   "cell_type": "markdown",
   "id": "953e6368-7ef4-4348-959b-1f1b38ade156",
   "metadata": {},
   "source": [
    "### Import the necessary libraries "
   ]
  },
  {
   "cell_type": "code",
   "execution_count": 2,
   "id": "a440e676-f859-48a8-ac64-f606fc85465a",
   "metadata": {},
   "outputs": [],
   "source": [
    "# for numerical computation/ array operation\n",
    "import numpy as np\n",
    "# for data manipulation\n",
    "import pandas as pd\n",
    "# for graph plotting \n",
    "import matplotlib.pyplot as plt\n",
    "# for neural networks\n",
    "import tensorflow as tf"
   ]
  },
  {
   "cell_type": "markdown",
   "id": "2cd2b51d-5ee1-4e9a-abe2-a1268c62a3b8",
   "metadata": {},
   "source": [
    "### Load the data"
   ]
  },
  {
   "cell_type": "code",
   "execution_count": 3,
   "id": "74c21ddc-f8b1-4686-bbe4-308ac031e90e",
   "metadata": {},
   "outputs": [],
   "source": [
    "# read the data\n",
    "df = pd.read_csv(\"data/wine_reviews.csv\")"
   ]
  },
  {
   "cell_type": "code",
   "execution_count": 5,
   "id": "8d92dae3-9388-4124-a7ac-fd1acf892b5c",
   "metadata": {},
   "outputs": [],
   "source": [
    "# Load wine review data from CSV file, selecting only specific columns needed for analysis\n",
    "df = pd.read_csv(\"data/wine_reviews.csv\", usecols=['country', 'description', 'points', 'price', 'variety', 'winery'])"
   ]
  },
  {
   "cell_type": "code",
   "execution_count": 6,
   "id": "9d7d881d-ca76-4d70-a172-3c0d21b2139d",
   "metadata": {},
   "outputs": [
    {
     "data": {
      "text/html": [
       "<div>\n",
       "<style scoped>\n",
       "    .dataframe tbody tr th:only-of-type {\n",
       "        vertical-align: middle;\n",
       "    }\n",
       "\n",
       "    .dataframe tbody tr th {\n",
       "        vertical-align: top;\n",
       "    }\n",
       "\n",
       "    .dataframe thead th {\n",
       "        text-align: right;\n",
       "    }\n",
       "</style>\n",
       "<table border=\"1\" class=\"dataframe\">\n",
       "  <thead>\n",
       "    <tr style=\"text-align: right;\">\n",
       "      <th></th>\n",
       "      <th>country</th>\n",
       "      <th>description</th>\n",
       "      <th>points</th>\n",
       "      <th>price</th>\n",
       "      <th>variety</th>\n",
       "      <th>winery</th>\n",
       "    </tr>\n",
       "  </thead>\n",
       "  <tbody>\n",
       "    <tr>\n",
       "      <th>0</th>\n",
       "      <td>US</td>\n",
       "      <td>This tremendous 100% varietal wine hails from ...</td>\n",
       "      <td>96</td>\n",
       "      <td>235.0</td>\n",
       "      <td>Cabernet Sauvignon</td>\n",
       "      <td>Heitz</td>\n",
       "    </tr>\n",
       "    <tr>\n",
       "      <th>1</th>\n",
       "      <td>Spain</td>\n",
       "      <td>Ripe aromas of fig, blackberry and cassis are ...</td>\n",
       "      <td>96</td>\n",
       "      <td>110.0</td>\n",
       "      <td>Tinta de Toro</td>\n",
       "      <td>Bodega Carmen Rodríguez</td>\n",
       "    </tr>\n",
       "    <tr>\n",
       "      <th>2</th>\n",
       "      <td>US</td>\n",
       "      <td>Mac Watson honors the memory of a wine once ma...</td>\n",
       "      <td>96</td>\n",
       "      <td>90.0</td>\n",
       "      <td>Sauvignon Blanc</td>\n",
       "      <td>Macauley</td>\n",
       "    </tr>\n",
       "    <tr>\n",
       "      <th>3</th>\n",
       "      <td>US</td>\n",
       "      <td>This spent 20 months in 30% new French oak, an...</td>\n",
       "      <td>96</td>\n",
       "      <td>65.0</td>\n",
       "      <td>Pinot Noir</td>\n",
       "      <td>Ponzi</td>\n",
       "    </tr>\n",
       "    <tr>\n",
       "      <th>4</th>\n",
       "      <td>France</td>\n",
       "      <td>This is the top wine from La Bégude, named aft...</td>\n",
       "      <td>95</td>\n",
       "      <td>66.0</td>\n",
       "      <td>Provence red blend</td>\n",
       "      <td>Domaine de la Bégude</td>\n",
       "    </tr>\n",
       "  </tbody>\n",
       "</table>\n",
       "</div>"
      ],
      "text/plain": [
       "  country                                        description  points  price  \\\n",
       "0      US  This tremendous 100% varietal wine hails from ...      96  235.0   \n",
       "1   Spain  Ripe aromas of fig, blackberry and cassis are ...      96  110.0   \n",
       "2      US  Mac Watson honors the memory of a wine once ma...      96   90.0   \n",
       "3      US  This spent 20 months in 30% new French oak, an...      96   65.0   \n",
       "4  France  This is the top wine from La Bégude, named aft...      95   66.0   \n",
       "\n",
       "              variety                   winery  \n",
       "0  Cabernet Sauvignon                    Heitz  \n",
       "1       Tinta de Toro  Bodega Carmen Rodríguez  \n",
       "2     Sauvignon Blanc                 Macauley  \n",
       "3          Pinot Noir                    Ponzi  \n",
       "4  Provence red blend     Domaine de la Bégude  "
      ]
     },
     "execution_count": 6,
     "metadata": {},
     "output_type": "execute_result"
    }
   ],
   "source": [
    "# view some data\n",
    "df.head()"
   ]
  },
  {
   "cell_type": "code",
   "execution_count": 7,
   "id": "51515b1e-5831-4df4-b91b-75b21ee1ec90",
   "metadata": {},
   "outputs": [
    {
     "data": {
      "text/plain": [
       "(150930, 6)"
      ]
     },
     "execution_count": 7,
     "metadata": {},
     "output_type": "execute_result"
    }
   ],
   "source": [
    "# check the shape\n",
    "df.shape"
   ]
  },
  {
   "cell_type": "code",
   "execution_count": 8,
   "id": "0dd97bfb-e96c-4f81-85b0-e164043836ed",
   "metadata": {},
   "outputs": [
    {
     "data": {
      "text/plain": [
       "country            5\n",
       "description        0\n",
       "points             0\n",
       "price          13695\n",
       "variety            0\n",
       "winery             0\n",
       "dtype: int64"
      ]
     },
     "execution_count": 8,
     "metadata": {},
     "output_type": "execute_result"
    }
   ],
   "source": [
    "# Check for null values\n",
    "df.isna().sum()"
   ]
  },
  {
   "cell_type": "code",
   "execution_count": 9,
   "id": "9a1bab55-e4e8-4b01-a006-6abb5122e18d",
   "metadata": {},
   "outputs": [],
   "source": [
    "# let's drop the nan values\n",
    "df.dropna(subset=['country', 'price'], axis=0, inplace=True)"
   ]
  },
  {
   "cell_type": "code",
   "execution_count": 10,
   "id": "2eb7175a-9325-44b2-8cb8-6814148ed239",
   "metadata": {},
   "outputs": [
    {
     "data": {
      "text/plain": [
       "Text(0.5, 1.0, 'Points Histogram')"
      ]
     },
     "execution_count": 10,
     "metadata": {},
     "output_type": "execute_result"
    },
    {
     "data": {
      "image/png": "[encoded data removed]",
      "text/plain": [
       "<Figure size 640x480 with 1 Axes>"
      ]
     },
     "metadata": {},
     "output_type": "display_data"
    }
   ],
   "source": [
    "# Plot the points column\n",
    "plt.hist(df.points, bins=20)\n",
    "plt.ylabel(\"No.\")\n",
    "plt.xlabel(\"Points\")\n",
    "plt.title(\"Points Histogram\")"
   ]
  },
  {
   "cell_type": "code",
   "execution_count": 11,
   "id": "6e2ff117-dc94-436a-ad8e-5b220437943d",
   "metadata": {},
   "outputs": [
    {
     "data": {
      "text/html": [
       "<div>\n",
       "<style scoped>\n",
       "    .dataframe tbody tr th:only-of-type {\n",
       "        vertical-align: middle;\n",
       "    }\n",
       "\n",
       "    .dataframe tbody tr th {\n",
       "        vertical-align: top;\n",
       "    }\n",
       "\n",
       "    .dataframe thead th {\n",
       "        text-align: right;\n",
       "    }\n",
       "</style>\n",
       "<table border=\"1\" class=\"dataframe\">\n",
       "  <thead>\n",
       "    <tr style=\"text-align: right;\">\n",
       "      <th></th>\n",
       "      <th>points</th>\n",
       "      <th>price</th>\n",
       "    </tr>\n",
       "  </thead>\n",
       "  <tbody>\n",
       "    <tr>\n",
       "      <th>count</th>\n",
       "      <td>137230.000000</td>\n",
       "      <td>137230.000000</td>\n",
       "    </tr>\n",
       "    <tr>\n",
       "      <th>mean</th>\n",
       "      <td>87.788035</td>\n",
       "      <td>33.132019</td>\n",
       "    </tr>\n",
       "    <tr>\n",
       "      <th>std</th>\n",
       "      <td>3.221572</td>\n",
       "      <td>36.323072</td>\n",
       "    </tr>\n",
       "    <tr>\n",
       "      <th>min</th>\n",
       "      <td>80.000000</td>\n",
       "      <td>4.000000</td>\n",
       "    </tr>\n",
       "    <tr>\n",
       "      <th>25%</th>\n",
       "      <td>86.000000</td>\n",
       "      <td>16.000000</td>\n",
       "    </tr>\n",
       "    <tr>\n",
       "      <th>50%</th>\n",
       "      <td>88.000000</td>\n",
       "      <td>24.000000</td>\n",
       "    </tr>\n",
       "    <tr>\n",
       "      <th>75%</th>\n",
       "      <td>90.000000</td>\n",
       "      <td>40.000000</td>\n",
       "    </tr>\n",
       "    <tr>\n",
       "      <th>max</th>\n",
       "      <td>100.000000</td>\n",
       "      <td>2300.000000</td>\n",
       "    </tr>\n",
       "  </tbody>\n",
       "</table>\n",
       "</div>"
      ],
      "text/plain": [
       "              points          price\n",
       "count  137230.000000  137230.000000\n",
       "mean       87.788035      33.132019\n",
       "std         3.221572      36.323072\n",
       "min        80.000000       4.000000\n",
       "25%        86.000000      16.000000\n",
       "50%        88.000000      24.000000\n",
       "75%        90.000000      40.000000\n",
       "max       100.000000    2300.000000"
      ]
     },
     "execution_count": 11,
     "metadata": {},
     "output_type": "execute_result"
    }
   ],
   "source": [
    "# view some descriptive stats\n",
    "df.describe()"
   ]
  },
  {
   "cell_type": "code",
   "execution_count": 12,
   "id": "12dbaffe-115f-4ce8-be02-4c4e59a4139f",
   "metadata": {},
   "outputs": [],
   "source": [
    "# lets make the quality label based on points (dividing into low tier and high tier)\n",
    "df['label'] = (df.points > 88).astype(int)\n",
    "\n",
    "# use the required column only\n",
    "df = df[['description', 'label']]"
   ]
  },
  {
   "cell_type": "code",
   "execution_count": 13,
   "id": "b4f81735-c352-4002-b9f5-e73d80e8560f",
   "metadata": {},
   "outputs": [
    {
     "data": {
      "text/html": [
       "<div>\n",
       "<style scoped>\n",
       "    .dataframe tbody tr th:only-of-type {\n",
       "        vertical-align: middle;\n",
       "    }\n",
       "\n",
       "    .dataframe tbody tr th {\n",
       "        vertical-align: top;\n",
       "    }\n",
       "\n",
       "    .dataframe thead th {\n",
       "        text-align: right;\n",
       "    }\n",
       "</style>\n",
       "<table border=\"1\" class=\"dataframe\">\n",
       "  <thead>\n",
       "    <tr style=\"text-align: right;\">\n",
       "      <th></th>\n",
       "      <th>description</th>\n",
       "      <th>label</th>\n",
       "    </tr>\n",
       "  </thead>\n",
       "  <tbody>\n",
       "    <tr>\n",
       "      <th>114316</th>\n",
       "      <td>Lush and full-bodied, if not especially comple...</td>\n",
       "      <td>0</td>\n",
       "    </tr>\n",
       "    <tr>\n",
       "      <th>19457</th>\n",
       "      <td>The 2006 L'Ermite boasts a wonderfully fragran...</td>\n",
       "      <td>1</td>\n",
       "    </tr>\n",
       "    <tr>\n",
       "      <th>1803</th>\n",
       "      <td>Woodland berry, pressed violet, dark cooking s...</td>\n",
       "      <td>1</td>\n",
       "    </tr>\n",
       "    <tr>\n",
       "      <th>7464</th>\n",
       "      <td>Soft and soapy, this is a simple wine without ...</td>\n",
       "      <td>0</td>\n",
       "    </tr>\n",
       "    <tr>\n",
       "      <th>18699</th>\n",
       "      <td>Forward citrus is lifted by accents of thyme a...</td>\n",
       "      <td>0</td>\n",
       "    </tr>\n",
       "  </tbody>\n",
       "</table>\n",
       "</div>"
      ],
      "text/plain": [
       "                                              description  label\n",
       "114316  Lush and full-bodied, if not especially comple...      0\n",
       "19457   The 2006 L'Ermite boasts a wonderfully fragran...      1\n",
       "1803    Woodland berry, pressed violet, dark cooking s...      1\n",
       "7464    Soft and soapy, this is a simple wine without ...      0\n",
       "18699   Forward citrus is lifted by accents of thyme a...      0"
      ]
     },
     "execution_count": 13,
     "metadata": {},
     "output_type": "execute_result"
    }
   ],
   "source": [
    "# lets see the changes\n",
    "df.sample(5)"
   ]
  },
  {
   "cell_type": "markdown",
   "id": "b5374c6c-73db-404f-8bac-19a92859b844",
   "metadata": {},
   "source": [
    "#### [Split the data](https://www.tensorflow.org/tutorials/structured_data/preprocessing_layers) "
   ]
  },
  {
   "cell_type": "code",
   "execution_count": 15,
   "id": "19d90ece-cd86-4424-a9e7-4395c9afa3b6",
   "metadata": {},
   "outputs": [],
   "source": [
    "# Shuffle the dataset before splitting\n",
    "df = df.sample(frac=1, random_state=24)  \n",
    "\n",
    "# Define split indices\n",
    "train_idx = int(0.8 * len(df))  # 80% of data for training\n",
    "val_idx = int(0.9 * len(df))    # Next 10% for validation\n",
    "\n",
    "# Split the dataset into training, validation, and test sets\n",
    "train, val, test = np.split(df, [train_idx, val_idx])"
   ]
  },
  {
   "cell_type": "code",
   "execution_count": 16,
   "id": "ead2cd4d-c7cc-41b1-824b-102585cf8cd5",
   "metadata": {},
   "outputs": [
    {
     "name": "stdout",
     "output_type": "stream",
     "text": [
      "109784 training examples\n",
      "13723 validation examples\n",
      "13723 test examples\n"
     ]
    }
   ],
   "source": [
    "# Check the lengths of 'train', 'val', and 'test'\n",
    "print(len(train), 'training examples')\n",
    "print(len(val), 'validation examples')\n",
    "print(len(test), 'test examples')"
   ]
  },
  {
   "cell_type": "markdown",
   "id": "4d63f43b-4cbd-4714-ae85-e9d18f88f27e",
   "metadata": {},
   "source": [
    "#### Lets convets these datas to tensorflow datasets\n",
    "> **Using: [Classify structured data using Keras preprocessing layers](https://www.tensorflow.org/tutorials/structured_data/preprocessing_layers)**\n",
    "> > create a utility function that converts each training, validation, and test set DataFrame into a `tf.data.Dataset`, then shuffles and batches the data."
   ]
  },
  {
   "cell_type": "code",
   "execution_count": 17,
   "id": "facc8762-7f7c-4cf4-9813-7298a803d7ca",
   "metadata": {},
   "outputs": [],
   "source": [
    "def df_to_dataset(dataframe, shuffle=True, batch_size=1024):\n",
    "    df = dataframe.copy()\n",
    "    labels = df[['label']]  # Extract labels\n",
    "    df = df.drop(columns=['label'])  # Keep remaining features\n",
    "    \n",
    "    ds = tf.data.Dataset.from_tensor_slices((df['description'], labels))  # Convert DataFrame to a dict\n",
    "    if shuffle:\n",
    "        ds = ds.shuffle(buffer_size=len(df))  # Shuffle dataset\n",
    "    \n",
    "    ds = ds.batch(batch_size).prefetch(tf.data.AUTOTUNE)  # Optimize loading performance\n",
    "    return ds"
   ]
  },
  {
   "cell_type": "code",
   "execution_count": 18,
   "id": "3b1326af-d372-417c-adc8-5e88be2ed44f",
   "metadata": {},
   "outputs": [],
   "source": [
    "# convert to the dataset\n",
    "train_data = df_to_dataset(train)\n",
    "val_data = df_to_dataset(val)\n",
    "test_data = df_to_dataset(test)"
   ]
  },
  {
   "cell_type": "code",
   "execution_count": 19,
   "id": "4ba3d9a4-6833-4ff6-b992-c2ee1c8f6632",
   "metadata": {},
   "outputs": [
    {
     "data": {
      "text/plain": [
       "(<tf.Tensor: shape=(1024,), dtype=string, numpy=\n",
       " array([b'Sharp, cutting acidity mars this delicately-structured wine. Tastes like a good dose of lime juice was added. Otherwise, the raspberry, orange and pomegranate flavors are delicious and dry.',\n",
       "        b'They pulled out their best for their birthday, and the result is a spectacular wine. Dense and concentrated in enormously complex cassis, black currant, cherry pie and cedar, it shows the dryness and firm tannins of a fine young Cabernet. Easy to predict a good lifetime ahead. Give it a year to resolve, and then should develop slowly for another six to eight years, at least.',\n",
       "        b'A lovely wine, rich and exotic, yet dry and balanced. Shows exotic flavors of spiced pears, pineapple punch, honeysuckles, butterscotch and Asian spices, in a creamy texture. Roussanne, Grenache Blanc and Viognier.',\n",
       "        ...,\n",
       "        b'Typical of a young, fine Petite Sirah, this bottle is too tannic and unintegrated to drink now. But it has a gigantic heart of blackberries, currants, chocolate, anise, leather and cedar, and should have no problem developing in the bottle over the next decade. Hold until after 2011.',\n",
       "        b'This is a good effort, built upon Pepper Bridge and Seven Hills fruit. It stands in the middle ranks of Walla Walla Merlots, quite similar to many other wines from the valley. New oak dominates the nose, with scents of smoke and char. The fruit is sweet cherry, with a hint of tobacco.',\n",
       "        b\"Here's a textbook Prosecco that should be easy to find. This brilliant sparkler offers a subdued bouquet, with bright accents of white rose, lime and peach blossom.\"],\n",
       "       dtype=object)>,\n",
       " <tf.Tensor: shape=(1024, 1), dtype=int64, numpy=\n",
       " array([[0],\n",
       "        [1],\n",
       "        [1],\n",
       "        ...,\n",
       "        [1],\n",
       "        [0],\n",
       "        [0]])>)"
      ]
     },
     "execution_count": 19,
     "metadata": {},
     "output_type": "execute_result"
    }
   ],
   "source": [
    "# lets see the data\n",
    "list(train_data)[0]"
   ]
  },
  {
   "cell_type": "markdown",
   "id": "c6789915-c97d-4642-af32-b4c6ebe75cbb",
   "metadata": {},
   "source": [
    "## **Embedding Text Features**\n",
    "Since our features are in **text format**, we need to convert them into a **numerical representation** so that our model can process them.  \n",
    "We will achieve this using **TensorFlow Hub**, which provides **pre-trained models** for embedding.  \n",
    "One of the available models for this task is **Google's NNLM**, which can be found on [Kaggle](https://www.kaggle.com/models/google/nnlm).  \n",
    "Using these embeddings ensures that our model captures **semantic relationships** between words, improving its understanding of textual data.  \n",
    "\n",
    "**Install TensorFlow Hub**\n",
    "```shell\n",
    "! pip install tensorflow-hub\n",
    "```"
   ]
  },
  {
   "cell_type": "code",
   "execution_count": 23,
   "id": "a002a2e0-3a09-419c-9f8a-95981789a039",
   "metadata": {},
   "outputs": [],
   "source": [
    "# Import TensorFlow Hub for pre-trained models\n",
    "import tensorflow_hub as hub \n",
    "\n",
    "# Import warnings\n",
    "import warnings\n",
    "warnings.filterwarnings(\"ignore\")   # Suppress all warnings\n"
   ]
  },
  {
   "cell_type": "code",
   "execution_count": 24,
   "id": "f2ff3bc7-ea23-4abc-8f34-d5f3c422566a",
   "metadata": {},
   "outputs": [],
   "source": [
    "# Load a pre-trained text embedding model from TensorFlow Hub\n",
    "hub_layer = hub.KerasLayer(\n",
    "    \"https://www.kaggle.com/models/google/nnlm/TensorFlow2/de-dim128/1\",  # URL of the NNLM model\n",
    "    input_shape=[],  # Specifies input shape (expects single strings)\n",
    "    dtype=tf.string,  # Defines input data type as string (since we're working with text)\n",
    "    trainable=True  # Allows fine-tuning of the embedding model during training\n",
    ")"
   ]
  },
  {
   "cell_type": "code",
   "execution_count": 22,
   "id": "c8747538-2c66-447f-a4b9-77d44e098532",
   "metadata": {},
   "outputs": [
    {
     "data": {
      "text/plain": [
       "<tf.Tensor: shape=(1024, 128), dtype=float32, numpy=\n",
       "array([[-0.18380183,  0.16711012, -0.35028955, ..., -0.33941844,\n",
       "        -0.33396477, -0.22573747],\n",
       "       [-0.25426242,  0.02310776, -0.19508821, ..., -0.11212113,\n",
       "        -0.26939538,  0.11686062],\n",
       "       [-0.03258701,  0.208426  , -0.30258024, ..., -0.19856066,\n",
       "        -0.14358364, -0.08963242],\n",
       "       ...,\n",
       "       [-0.3107113 ,  0.07128148, -0.43521076, ..., -0.28439024,\n",
       "        -0.37688944,  0.03392216],\n",
       "       [-0.2592677 ,  0.2806191 , -0.2707957 , ..., -0.19513129,\n",
       "        -0.26001784, -0.04836067],\n",
       "       [-0.343174  ,  0.2351944 , -0.3969177 , ..., -0.2967693 ,\n",
       "        -0.45732522,  0.16782576]], dtype=float32)>"
      ]
     },
     "execution_count": 22,
     "metadata": {},
     "output_type": "execute_result"
    }
   ],
   "source": [
    "# This layer will convert input text into numerical embeddings\n",
    "hub_layer(list(train_data)[0][0])"
   ]
  },
  {
   "cell_type": "markdown",
   "id": "e9acee3b-1ff2-4a0b-916f-f858c744c0b4",
   "metadata": {},
   "source": [
    "### Model Training"
   ]
  },
  {
   "cell_type": "code",
   "execution_count": 32,
   "id": "162496cf-ddba-4147-be51-c7e1118d3a00",
   "metadata": {},
   "outputs": [
    {
     "data": {
      "text/html": [
       "<pre style=\"white-space:pre;overflow-x:auto;line-height:normal;font-family:Menlo,'DejaVu Sans Mono',consolas,'Courier New',monospace\"><span style=\"font-weight: bold\">Model: \"sequential_4\"</span>\n",
       "</pre>\n"
      ],
      "text/plain": [
       "\u001b[1mModel: \"sequential_4\"\u001b[0m\n"
      ]
     },
     "metadata": {},
     "output_type": "display_data"
    },
    {
     "data": {
      "text/html": [
       "<pre style=\"white-space:pre;overflow-x:auto;line-height:normal;font-family:Menlo,'DejaVu Sans Mono',consolas,'Courier New',monospace\">┏━━━━━━━━━━━━━━━━━━━━━━━━━━━━━━━━━━━━━━┳━━━━━━━━━━━━━━━━━━━━━━━━━━━━━┳━━━━━━━━━━━━━━━━━┓\n",
       "┃<span style=\"font-weight: bold\"> Layer (type)                         </span>┃<span style=\"font-weight: bold\"> Output Shape                </span>┃<span style=\"font-weight: bold\">         Param # </span>┃\n",
       "┡━━━━━━━━━━━━━━━━━━━━━━━━━━━━━━━━━━━━━━╇━━━━━━━━━━━━━━━━━━━━━━━━━━━━━╇━━━━━━━━━━━━━━━━━┩\n",
       "│ lambda_1 (<span style=\"color: #0087ff; text-decoration-color: #0087ff\">Lambda</span>)                    │ ?                           │     <span style=\"color: #00af00; text-decoration-color: #00af00\">0</span> (unbuilt) │\n",
       "├──────────────────────────────────────┼─────────────────────────────┼─────────────────┤\n",
       "│ dense_9 (<span style=\"color: #0087ff; text-decoration-color: #0087ff\">Dense</span>)                      │ ?                           │     <span style=\"color: #00af00; text-decoration-color: #00af00\">0</span> (unbuilt) │\n",
       "├──────────────────────────────────────┼─────────────────────────────┼─────────────────┤\n",
       "│ dense_10 (<span style=\"color: #0087ff; text-decoration-color: #0087ff\">Dense</span>)                     │ ?                           │     <span style=\"color: #00af00; text-decoration-color: #00af00\">0</span> (unbuilt) │\n",
       "├──────────────────────────────────────┼─────────────────────────────┼─────────────────┤\n",
       "│ dense_11 (<span style=\"color: #0087ff; text-decoration-color: #0087ff\">Dense</span>)                     │ ?                           │     <span style=\"color: #00af00; text-decoration-color: #00af00\">0</span> (unbuilt) │\n",
       "└──────────────────────────────────────┴─────────────────────────────┴─────────────────┘\n",
       "</pre>\n"
      ],
      "text/plain": [
       "┏━━━━━━━━━━━━━━━━━━━━━━━━━━━━━━━━━━━━━━┳━━━━━━━━━━━━━━━━━━━━━━━━━━━━━┳━━━━━━━━━━━━━━━━━┓\n",
       "┃\u001b[1m \u001b[0m\u001b[1mLayer (type)                        \u001b[0m\u001b[1m \u001b[0m┃\u001b[1m \u001b[0m\u001b[1mOutput Shape               \u001b[0m\u001b[1m \u001b[0m┃\u001b[1m \u001b[0m\u001b[1m        Param #\u001b[0m\u001b[1m \u001b[0m┃\n",
       "┡━━━━━━━━━━━━━━━━━━━━━━━━━━━━━━━━━━━━━━╇━━━━━━━━━━━━━━━━━━━━━━━━━━━━━╇━━━━━━━━━━━━━━━━━┩\n",
       "│ lambda_1 (\u001b[38;5;33mLambda\u001b[0m)                    │ ?                           │     \u001b[38;5;34m0\u001b[0m (unbuilt) │\n",
       "├──────────────────────────────────────┼─────────────────────────────┼─────────────────┤\n",
       "│ dense_9 (\u001b[38;5;33mDense\u001b[0m)                      │ ?                           │     \u001b[38;5;34m0\u001b[0m (unbuilt) │\n",
       "├──────────────────────────────────────┼─────────────────────────────┼─────────────────┤\n",
       "│ dense_10 (\u001b[38;5;33mDense\u001b[0m)                     │ ?                           │     \u001b[38;5;34m0\u001b[0m (unbuilt) │\n",
       "├──────────────────────────────────────┼─────────────────────────────┼─────────────────┤\n",
       "│ dense_11 (\u001b[38;5;33mDense\u001b[0m)                     │ ?                           │     \u001b[38;5;34m0\u001b[0m (unbuilt) │\n",
       "└──────────────────────────────────────┴─────────────────────────────┴─────────────────┘\n"
      ]
     },
     "metadata": {},
     "output_type": "display_data"
    },
    {
     "data": {
      "text/html": [
       "<pre style=\"white-space:pre;overflow-x:auto;line-height:normal;font-family:Menlo,'DejaVu Sans Mono',consolas,'Courier New',monospace\"><span style=\"font-weight: bold\"> Total params: </span><span style=\"color: #00af00; text-decoration-color: #00af00\">0</span> (0.00 B)\n",
       "</pre>\n"
      ],
      "text/plain": [
       "\u001b[1m Total params: \u001b[0m\u001b[38;5;34m0\u001b[0m (0.00 B)\n"
      ]
     },
     "metadata": {},
     "output_type": "display_data"
    },
    {
     "data": {
      "text/html": [
       "<pre style=\"white-space:pre;overflow-x:auto;line-height:normal;font-family:Menlo,'DejaVu Sans Mono',consolas,'Courier New',monospace\"><span style=\"font-weight: bold\"> Trainable params: </span><span style=\"color: #00af00; text-decoration-color: #00af00\">0</span> (0.00 B)\n",
       "</pre>\n"
      ],
      "text/plain": [
       "\u001b[1m Trainable params: \u001b[0m\u001b[38;5;34m0\u001b[0m (0.00 B)\n"
      ]
     },
     "metadata": {},
     "output_type": "display_data"
    },
    {
     "data": {
      "text/html": [
       "<pre style=\"white-space:pre;overflow-x:auto;line-height:normal;font-family:Menlo,'DejaVu Sans Mono',consolas,'Courier New',monospace\"><span style=\"font-weight: bold\"> Non-trainable params: </span><span style=\"color: #00af00; text-decoration-color: #00af00\">0</span> (0.00 B)\n",
       "</pre>\n"
      ],
      "text/plain": [
       "\u001b[1m Non-trainable params: \u001b[0m\u001b[38;5;34m0\u001b[0m (0.00 B)\n"
      ]
     },
     "metadata": {},
     "output_type": "display_data"
    }
   ],
   "source": [
    "# 1. Create a Sequential model\n",
    "model = tf.keras.Sequential()\n",
    "# Add a Lambda layer to apply the pre-trained embedding model\n",
    "model.add(tf.keras.layers.Lambda(lambda x: hub_layer(x)))  # Converts text input into numerical embeddings\n",
    "model.add(tf.keras.layers.Dense(16, activation='relu'))  # First hidden layer with 16 units\n",
    "model.add(tf.keras.layers.Dense(16, activation='relu'))  # Second hidden layer with 16 units\n",
    "model.add(tf.keras.layers.Dense(1, activation='sigmoid'))  # Single unit for binary classification\n",
    "# Print model architecture summary\n",
    "model.summary()  # Displays model structure and parameters"
   ]
  },
  {
   "cell_type": "code",
   "execution_count": 36,
   "id": "86150b48-a927-4d5f-a27c-19769abf9d86",
   "metadata": {},
   "outputs": [
    {
     "name": "stdout",
     "output_type": "stream",
     "text": [
      "Epoch 1/10\n",
      "\u001b[1m108/108\u001b[0m \u001b[32m━━━━━━━━━━━━━━━━━━━━\u001b[0m\u001b[37m\u001b[0m \u001b[1m6s\u001b[0m 25ms/step - accuracy: 0.5935 - loss: 0.6785 - val_accuracy: 0.6117 - val_loss: 0.6473\n",
      "Epoch 2/10\n",
      "\u001b[1m108/108\u001b[0m \u001b[32m━━━━━━━━━━━━━━━━━━━━\u001b[0m\u001b[37m\u001b[0m \u001b[1m2s\u001b[0m 20ms/step - accuracy: 0.6479 - loss: 0.6286 - val_accuracy: 0.7004 - val_loss: 0.5755\n",
      "Epoch 3/10\n",
      "\u001b[1m108/108\u001b[0m \u001b[32m━━━━━━━━━━━━━━━━━━━━\u001b[0m\u001b[37m\u001b[0m \u001b[1m2s\u001b[0m 19ms/step - accuracy: 0.7074 - loss: 0.5681 - val_accuracy: 0.7154 - val_loss: 0.5518\n",
      "Epoch 4/10\n",
      "\u001b[1m108/108\u001b[0m \u001b[32m━━━━━━━━━━━━━━━━━━━━\u001b[0m\u001b[37m\u001b[0m \u001b[1m2s\u001b[0m 20ms/step - accuracy: 0.7211 - loss: 0.5481 - val_accuracy: 0.7240 - val_loss: 0.5442\n",
      "Epoch 5/10\n",
      "\u001b[1m108/108\u001b[0m \u001b[32m━━━━━━━━━━━━━━━━━━━━\u001b[0m\u001b[37m\u001b[0m \u001b[1m2s\u001b[0m 20ms/step - accuracy: 0.7253 - loss: 0.5422 - val_accuracy: 0.7220 - val_loss: 0.5428\n",
      "Epoch 6/10\n",
      "\u001b[1m108/108\u001b[0m \u001b[32m━━━━━━━━━━━━━━━━━━━━\u001b[0m\u001b[37m\u001b[0m \u001b[1m2s\u001b[0m 21ms/step - accuracy: 0.7236 - loss: 0.5419 - val_accuracy: 0.7236 - val_loss: 0.5421\n",
      "Epoch 7/10\n",
      "\u001b[1m108/108\u001b[0m \u001b[32m━━━━━━━━━━━━━━━━━━━━\u001b[0m\u001b[37m\u001b[0m \u001b[1m2s\u001b[0m 20ms/step - accuracy: 0.7286 - loss: 0.5373 - val_accuracy: 0.7234 - val_loss: 0.5423\n",
      "Epoch 8/10\n",
      "\u001b[1m108/108\u001b[0m \u001b[32m━━━━━━━━━━━━━━━━━━━━\u001b[0m\u001b[37m\u001b[0m \u001b[1m2s\u001b[0m 20ms/step - accuracy: 0.7245 - loss: 0.5394 - val_accuracy: 0.7262 - val_loss: 0.5387\n",
      "Epoch 9/10\n",
      "\u001b[1m108/108\u001b[0m \u001b[32m━━━━━━━━━━━━━━━━━━━━\u001b[0m\u001b[37m\u001b[0m \u001b[1m2s\u001b[0m 20ms/step - accuracy: 0.7263 - loss: 0.5398 - val_accuracy: 0.7258 - val_loss: 0.5381\n",
      "Epoch 10/10\n",
      "\u001b[1m108/108\u001b[0m \u001b[32m━━━━━━━━━━━━━━━━━━━━\u001b[0m\u001b[37m\u001b[0m \u001b[1m2s\u001b[0m 20ms/step - accuracy: 0.7272 - loss: 0.5361 - val_accuracy: 0.7248 - val_loss: 0.5374\n"
     ]
    }
   ],
   "source": [
    "# 2. compile the model\n",
    "model.compile(\n",
    "    loss=tf.keras.losses.BinaryCrossentropy(),\n",
    "    optimizer=tf.keras.optimizers.Adam(),\n",
    "    metrics=['accuracy']\n",
    ")\n",
    "\n",
    "# 3. fit the data into model\n",
    "history = model.fit(train_data,\n",
    "                    epochs=10,\n",
    "                    validation_data=val_data\n",
    "                   )"
   ]
  },
  {
   "cell_type": "code",
   "execution_count": 42,
   "id": "b9411d35-cd83-473d-a7d3-a453a91ada9e",
   "metadata": {},
   "outputs": [
    {
     "data": {
      "image/png": "[encoded data removed]",
      "text/plain": [
       "<Figure size 1200x400 with 2 Axes>"
      ]
     },
     "metadata": {},
     "output_type": "display_data"
    }
   ],
   "source": [
    "# lets plot the metrics\n",
    "history_df = pd.DataFrame(history.history) # Create DataFrame from history\n",
    "\n",
    "# Create figure with subplots\n",
    "fig, (ax1, ax2) = plt.subplots(1, 2, figsize=(12, 4))\n",
    "\n",
    "# Plot accuracy\n",
    "ax1.plot(history_df['accuracy'], label='Training Accuracy')\n",
    "ax1.plot(history_df['val_accuracy'], label='Validation Accuracy')\n",
    "ax1.set_title('Model Accuracy')\n",
    "ax1.set_ylabel('Accuracy')\n",
    "ax1.set_xlabel('Epochs')\n",
    "ax1.legend()\n",
    "\n",
    "# Plot loss\n",
    "ax2.plot(history_df['loss'], label='Training Loss')\n",
    "ax2.plot(history_df['val_loss'], label='Validation Loss')\n",
    "ax2.set_title('Model Loss')\n",
    "ax2.set_ylabel('Loss')\n",
    "ax2.set_xlabel('Epochs')\n",
    "ax2.legend()\n",
    "\n",
    "plt.tight_layout()\n",
    "plt.show()"
   ]
  },
  {
   "cell_type": "markdown",
   "id": "cef0f98a-4187-4974-b754-06c3df1e280f",
   "metadata": {},
   "source": [
    "#### **Insights from the Training Logs and Plot:**\n",
    "* **Convergence:**\n",
    "    * From Epoch 3 onwards, the accuracy and loss values for both training and validation seem to stabilize, indicating that the model is converging.\n",
    "    * Specifically, from Epoch 5 to Epoch 10, the changes in accuracy and loss are very minimal (e.g., training accuracy goes from 0.7253 to 0.7272, and validation accuracy from 0.7220 to 0.7248).\n",
    "* **Validation vs. Training Performance:**\n",
    "    * Initially (Epoch 1), the validation accuracy (0.6117) is slightly higher than the training accuracy (0.5935), and validation loss (0.6473) is slightly lower than training loss (0.6785). This is not uncommon in the very early stages of training.\n",
    "    * As training progresses, the training accuracy consistently stays very close to the validation accuracy, and similarly for the loss values. For instance, at Epoch 10, training accuracy is 0.7272 and validation accuracy is 0.7248. Training loss is 0.5361 and validation loss is 0.5381. The differences are very small.\n",
    "\n",
    "* **Small Gap:** The gap between training metrics and validation metrics remains small throughout the training process and does not significantly widen. A widening gap is a strong indicator of overfitting.\n",
    "\n",
    "> While it's not severe overfitting, the model does seem to have **converged and reached a plateau** in its performance.\n",
    "\n",
    "**Note -** *[Dropout](https://www.tensorflow.org/api_docs/python/tf/keras/layers/Dropout)*: A technique to prevent overfitting by randomly deactivating (dropping out) a percentage of neurons during training, forcing the network to learn more robust features and improve generalization .\n",
    "```python\n",
    "model.add(tf.keras.layers.Dropout(0.4))\n",
    "```"
   ]
  },
  {
   "cell_type": "code",
   "execution_count": 43,
   "id": "c77bc8c7-d685-4097-9eef-07a287c7cfb7",
   "metadata": {},
   "outputs": [
    {
     "name": "stdout",
     "output_type": "stream",
     "text": [
      "\u001b[1m14/14\u001b[0m \u001b[32m━━━━━━━━━━━━━━━━━━━━\u001b[0m\u001b[37m\u001b[0m \u001b[1m2s\u001b[0m 75ms/step - accuracy: 0.7233 - loss: 0.5360\n"
     ]
    },
    {
     "data": {
      "text/plain": [
       "[0.5373629927635193, 0.7230926156044006]"
      ]
     },
     "execution_count": 43,
     "metadata": {},
     "output_type": "execute_result"
    }
   ],
   "source": [
    "# Lets evaluate the model on test data\n",
    "model.evaluate(test_data)"
   ]
  },
  {
   "cell_type": "markdown",
   "id": "63ed74f8-07bc-43bd-82b5-822761a88564",
   "metadata": {},
   "source": [
    ">✅ **We trained our model and reached 72% classification performance (without overfitting).**"
   ]
  },
  {
   "cell_type": "markdown",
   "id": "b929afbf-86a0-4eca-bc7d-e26b339fa13a",
   "metadata": {},
   "source": [
    "## **Building a Text Classification Model Without Pretrained Embeddings**  \n",
    "Instead of using pretrained embeddings (like Word2Vec, GloVe, or TensorFlow Hub models), we will create our own classification model using **LSTM** for sequential text processing. We'll train our own embeddings from scratch using Keras embedding layers.\n",
    "\n",
    "### **Key Components for Text Encoding**\n",
    "\n",
    "- **`tf.keras.layers.TextVectorization`**  \n",
    "  A preprocessing layer that converts raw text into integer sequences based on a vocabulary. It handles tokenization, lowercasing, and maps each unique word to an integer index.\n",
    "\n",
    "- **`tf.keras.layers.Embedding`**  \n",
    "  Maps integer indices (from text vectorization) to dense vector representations of fixed size. This layer learns semantic relationships between words during training, creating custom embeddings specific to your dataset."
   ]
  },
  {
   "cell_type": "markdown",
   "id": "57b564be-291c-4572-996e-12305b96a01d",
   "metadata": {},
   "source": [
    "### Define preprocessing layers for text classification"
   ]
  },
  {
   "cell_type": "markdown",
   "id": "f2369d08-dbd9-43ab-95bb-bbc6c2fc7d2c",
   "metadata": {},
   "source": [
    "#### Text Vectorization Layer"
   ]
  },
  {
   "cell_type": "code",
   "execution_count": 71,
   "id": "82f81169-7d01-4af3-a6af-5adb704766b2",
   "metadata": {},
   "outputs": [],
   "source": [
    "# Hyperparameters for text processing\n",
    "max_vocab_size = 2000  # Keep only top 2000 most frequent words (reduces noise)\n",
    "max_seq_length = 100    # Pad/truncate all sequences to this length (for consistent input size)\n",
    "\n",
    "# Create the text vectorization layer\n",
    "text_vectorizer = tf.keras.layers.TextVectorization(\n",
    "    max_tokens=max_vocab_size,          # Vocabulary size limit (most frequent words only)\n",
    "    output_mode='int',                  # Output integer indices (not one-hot encoding)\n",
    "    output_sequence_length=max_seq_length,  # Fixed sequence length for all inputs\n",
    "    name='text_vectorizer'\n",
    "\n",
    ")\n",
    "\n",
    "# Now that the vocab layer has been created, call `adapt` on the list of strings to create the vocabulary.\n",
    "text_vectorizer.adapt(train_data.map(lambda text, label: text))"
   ]
  },
  {
   "cell_type": "code",
   "execution_count": 72,
   "id": "5eddb874-d394-4059-865b-63270c7f685a",
   "metadata": {},
   "outputs": [
    {
     "name": "stdout",
     "output_type": "stream",
     "text": [
      "First 20 vocabulary words (most frequent):\n",
      "['' '[UNK]' 'and' 'the' 'a' 'of' 'with' 'this' 'is' 'wine' 'flavors' 'in'\n",
      " 'to' 'it' 'its' 'fruit' 'but' 'on' 'that' 'finish']\n"
     ]
    }
   ],
   "source": [
    "# Get the vocabulary as a numpy array to inspect it\n",
    "vocab = np.array(text_vectorizer.get_vocabulary())  \n",
    "print(f\"First 20 vocabulary words (most frequent):\\n{vocab[:20]}\")"
   ]
  },
  {
   "cell_type": "markdown",
   "id": "60014f2d-094f-42a9-8a58-9e0498fcdf49",
   "metadata": {},
   "source": [
    "#### Embedding Layer"
   ]
  },
  {
   "cell_type": "code",
   "execution_count": 73,
   "id": "d4791144-9072-4cb8-a4b7-464700b4273c",
   "metadata": {},
   "outputs": [],
   "source": [
    "# Create the embedding layer\n",
    "embedder = tf.keras.layers.Embedding(\n",
    "    input_dim=max_vocab_size,     # Input vocabulary size (must match text_vectorizer)\n",
    "    output_dim=32,               # Embedding dimension (each word → 32-dim vector)\n",
    "    mask_zero=True,               # Ignore padding tokens (index 0) in subsequent layers\n",
    "    name='word_embeddings'        # Layer name for easier debugging\n",
    ")"
   ]
  },
  {
   "cell_type": "code",
   "execution_count": 74,
   "id": "f5f3fe2a-4c81-4333-85bb-f0ebb66d1d82",
   "metadata": {},
   "outputs": [
    {
     "data": {
      "text/html": [
       "<pre style=\"white-space:pre;overflow-x:auto;line-height:normal;font-family:Menlo,'DejaVu Sans Mono',consolas,'Courier New',monospace\"><span style=\"font-weight: bold\">Model: \"sequential_12\"</span>\n",
       "</pre>\n"
      ],
      "text/plain": [
       "\u001b[1mModel: \"sequential_12\"\u001b[0m\n"
      ]
     },
     "metadata": {},
     "output_type": "display_data"
    },
    {
     "data": {
      "text/html": [
       "<pre style=\"white-space:pre;overflow-x:auto;line-height:normal;font-family:Menlo,'DejaVu Sans Mono',consolas,'Courier New',monospace\">┏━━━━━━━━━━━━━━━━━━━━━━━━━━━━━━━━━━━━━━┳━━━━━━━━━━━━━━━━━━━━━━━━━━━━━┳━━━━━━━━━━━━━━━━━┓\n",
       "┃<span style=\"font-weight: bold\"> Layer (type)                         </span>┃<span style=\"font-weight: bold\"> Output Shape                </span>┃<span style=\"font-weight: bold\">         Param # </span>┃\n",
       "┡━━━━━━━━━━━━━━━━━━━━━━━━━━━━━━━━━━━━━━╇━━━━━━━━━━━━━━━━━━━━━━━━━━━━━╇━━━━━━━━━━━━━━━━━┩\n",
       "│ text_vectorizer (<span style=\"color: #0087ff; text-decoration-color: #0087ff\">TextVectorization</span>)  │ ?                           │     <span style=\"color: #00af00; text-decoration-color: #00af00\">0</span> (unbuilt) │\n",
       "├──────────────────────────────────────┼─────────────────────────────┼─────────────────┤\n",
       "│ word_embeddings (<span style=\"color: #0087ff; text-decoration-color: #0087ff\">Embedding</span>)          │ ?                           │     <span style=\"color: #00af00; text-decoration-color: #00af00\">0</span> (unbuilt) │\n",
       "├──────────────────────────────────────┼─────────────────────────────┼─────────────────┤\n",
       "│ lstm_7 (<span style=\"color: #0087ff; text-decoration-color: #0087ff\">LSTM</span>)                        │ ?                           │     <span style=\"color: #00af00; text-decoration-color: #00af00\">0</span> (unbuilt) │\n",
       "├──────────────────────────────────────┼─────────────────────────────┼─────────────────┤\n",
       "│ dense_29 (<span style=\"color: #0087ff; text-decoration-color: #0087ff\">Dense</span>)                     │ ?                           │     <span style=\"color: #00af00; text-decoration-color: #00af00\">0</span> (unbuilt) │\n",
       "├──────────────────────────────────────┼─────────────────────────────┼─────────────────┤\n",
       "│ dense_30 (<span style=\"color: #0087ff; text-decoration-color: #0087ff\">Dense</span>)                     │ ?                           │     <span style=\"color: #00af00; text-decoration-color: #00af00\">0</span> (unbuilt) │\n",
       "└──────────────────────────────────────┴─────────────────────────────┴─────────────────┘\n",
       "</pre>\n"
      ],
      "text/plain": [
       "┏━━━━━━━━━━━━━━━━━━━━━━━━━━━━━━━━━━━━━━┳━━━━━━━━━━━━━━━━━━━━━━━━━━━━━┳━━━━━━━━━━━━━━━━━┓\n",
       "┃\u001b[1m \u001b[0m\u001b[1mLayer (type)                        \u001b[0m\u001b[1m \u001b[0m┃\u001b[1m \u001b[0m\u001b[1mOutput Shape               \u001b[0m\u001b[1m \u001b[0m┃\u001b[1m \u001b[0m\u001b[1m        Param #\u001b[0m\u001b[1m \u001b[0m┃\n",
       "┡━━━━━━━━━━━━━━━━━━━━━━━━━━━━━━━━━━━━━━╇━━━━━━━━━━━━━━━━━━━━━━━━━━━━━╇━━━━━━━━━━━━━━━━━┩\n",
       "│ text_vectorizer (\u001b[38;5;33mTextVectorization\u001b[0m)  │ ?                           │     \u001b[38;5;34m0\u001b[0m (unbuilt) │\n",
       "├──────────────────────────────────────┼─────────────────────────────┼─────────────────┤\n",
       "│ word_embeddings (\u001b[38;5;33mEmbedding\u001b[0m)          │ ?                           │     \u001b[38;5;34m0\u001b[0m (unbuilt) │\n",
       "├──────────────────────────────────────┼─────────────────────────────┼─────────────────┤\n",
       "│ lstm_7 (\u001b[38;5;33mLSTM\u001b[0m)                        │ ?                           │     \u001b[38;5;34m0\u001b[0m (unbuilt) │\n",
       "├──────────────────────────────────────┼─────────────────────────────┼─────────────────┤\n",
       "│ dense_29 (\u001b[38;5;33mDense\u001b[0m)                     │ ?                           │     \u001b[38;5;34m0\u001b[0m (unbuilt) │\n",
       "├──────────────────────────────────────┼─────────────────────────────┼─────────────────┤\n",
       "│ dense_30 (\u001b[38;5;33mDense\u001b[0m)                     │ ?                           │     \u001b[38;5;34m0\u001b[0m (unbuilt) │\n",
       "└──────────────────────────────────────┴─────────────────────────────┴─────────────────┘\n"
      ]
     },
     "metadata": {},
     "output_type": "display_data"
    },
    {
     "data": {
      "text/html": [
       "<pre style=\"white-space:pre;overflow-x:auto;line-height:normal;font-family:Menlo,'DejaVu Sans Mono',consolas,'Courier New',monospace\"><span style=\"font-weight: bold\"> Total params: </span><span style=\"color: #00af00; text-decoration-color: #00af00\">0</span> (0.00 B)\n",
       "</pre>\n"
      ],
      "text/plain": [
       "\u001b[1m Total params: \u001b[0m\u001b[38;5;34m0\u001b[0m (0.00 B)\n"
      ]
     },
     "metadata": {},
     "output_type": "display_data"
    },
    {
     "data": {
      "text/html": [
       "<pre style=\"white-space:pre;overflow-x:auto;line-height:normal;font-family:Menlo,'DejaVu Sans Mono',consolas,'Courier New',monospace\"><span style=\"font-weight: bold\"> Trainable params: </span><span style=\"color: #00af00; text-decoration-color: #00af00\">0</span> (0.00 B)\n",
       "</pre>\n"
      ],
      "text/plain": [
       "\u001b[1m Trainable params: \u001b[0m\u001b[38;5;34m0\u001b[0m (0.00 B)\n"
      ]
     },
     "metadata": {},
     "output_type": "display_data"
    },
    {
     "data": {
      "text/html": [
       "<pre style=\"white-space:pre;overflow-x:auto;line-height:normal;font-family:Menlo,'DejaVu Sans Mono',consolas,'Courier New',monospace\"><span style=\"font-weight: bold\"> Non-trainable params: </span><span style=\"color: #00af00; text-decoration-color: #00af00\">0</span> (0.00 B)\n",
       "</pre>\n"
      ],
      "text/plain": [
       "\u001b[1m Non-trainable params: \u001b[0m\u001b[38;5;34m0\u001b[0m (0.00 B)\n"
      ]
     },
     "metadata": {},
     "output_type": "display_data"
    }
   ],
   "source": [
    "# Build the LSTM model using preprocessing layer\n",
    "model = tf.keras.Sequential([\n",
    "    text_vectorizer,  # Convert text into integer sequences\n",
    "    embedder,  # converts integers to embeddings\n",
    "    tf.keras.layers.LSTM(64),  # LSTM layer with 64 units\n",
    "    tf.keras.layers.Dense(16, activation='relu'),  \n",
    "    tf.keras.layers.Dense(1, activation='sigmoid')  \n",
    "])\n",
    "\n",
    "# Compile the model\n",
    "model.compile(optimizer=\"adam\", loss=\"binary_crossentropy\", metrics=[\"accuracy\"])\n",
    "\n",
    "# Print model summary\n",
    "model.summary()"
   ]
  },
  {
   "cell_type": "code",
   "execution_count": 76,
   "id": "4c794155-b5c5-4093-8d91-0a4a553ffa40",
   "metadata": {},
   "outputs": [
    {
     "name": "stdout",
     "output_type": "stream",
     "text": [
      "\u001b[1m108/108\u001b[0m \u001b[32m━━━━━━━━━━━━━━━━━━━━\u001b[0m\u001b[37m\u001b[0m \u001b[1m44s\u001b[0m 401ms/step - accuracy: 0.4595 - loss: 0.6934\n"
     ]
    },
    {
     "data": {
      "text/plain": [
       "[0.6933507919311523, 0.4590924084186554]"
      ]
     },
     "execution_count": 76,
     "metadata": {},
     "output_type": "execute_result"
    }
   ],
   "source": [
    "# lets evalute the model\n",
    "model.evaluate(train_data)"
   ]
  },
  {
   "cell_type": "code",
   "execution_count": 77,
   "id": "b13762e0-f6de-4c7d-8829-9e2dc9570e23",
   "metadata": {},
   "outputs": [
    {
     "name": "stdout",
     "output_type": "stream",
     "text": [
      "Epoch 1/7\n",
      "\u001b[1m108/108\u001b[0m \u001b[32m━━━━━━━━━━━━━━━━━━━━\u001b[0m\u001b[37m\u001b[0m \u001b[1m100s\u001b[0m 907ms/step - accuracy: 0.6653 - loss: 0.5936 - val_accuracy: 0.8274 - val_loss: 0.3733\n",
      "Epoch 2/7\n",
      "\u001b[1m108/108\u001b[0m \u001b[32m━━━━━━━━━━━━━━━━━━━━\u001b[0m\u001b[37m\u001b[0m \u001b[1m111s\u001b[0m 1s/step - accuracy: 0.8379 - loss: 0.3570 - val_accuracy: 0.8419 - val_loss: 0.3492\n",
      "Epoch 3/7\n",
      "\u001b[1m108/108\u001b[0m \u001b[32m━━━━━━━━━━━━━━━━━━━━\u001b[0m\u001b[37m\u001b[0m \u001b[1m182s\u001b[0m 2s/step - accuracy: 0.8459 - loss: 0.3386 - val_accuracy: 0.8435 - val_loss: 0.3443\n",
      "Epoch 4/7\n",
      "\u001b[1m108/108\u001b[0m \u001b[32m━━━━━━━━━━━━━━━━━━━━\u001b[0m\u001b[37m\u001b[0m \u001b[1m218s\u001b[0m 2s/step - accuracy: 0.8509 - loss: 0.3296 - val_accuracy: 0.8455 - val_loss: 0.3357\n",
      "Epoch 5/7\n",
      "\u001b[1m108/108\u001b[0m \u001b[32m━━━━━━━━━━━━━━━━━━━━\u001b[0m\u001b[37m\u001b[0m \u001b[1m229s\u001b[0m 2s/step - accuracy: 0.8520 - loss: 0.3268 - val_accuracy: 0.8446 - val_loss: 0.3403\n",
      "Epoch 6/7\n",
      "\u001b[1m108/108\u001b[0m \u001b[32m━━━━━━━━━━━━━━━━━━━━\u001b[0m\u001b[37m\u001b[0m \u001b[1m252s\u001b[0m 2s/step - accuracy: 0.8539 - loss: 0.3214 - val_accuracy: 0.8403 - val_loss: 0.3461\n",
      "Epoch 7/7\n",
      "\u001b[1m108/108\u001b[0m \u001b[32m━━━━━━━━━━━━━━━━━━━━\u001b[0m\u001b[37m\u001b[0m \u001b[1m298s\u001b[0m 3s/step - accuracy: 0.8544 - loss: 0.3199 - val_accuracy: 0.8459 - val_loss: 0.3365\n"
     ]
    }
   ],
   "source": [
    "# fit the data into model for training \n",
    "history = model.fit(train_data, epochs=7, validation_data=val_data)"
   ]
  },
  {
   "cell_type": "code",
   "execution_count": 78,
   "id": "e4326587-dd39-4937-bc5d-c8ff5921ec62",
   "metadata": {},
   "outputs": [
    {
     "data": {
      "text/plain": [
       "<Axes: >"
      ]
     },
     "execution_count": 78,
     "metadata": {},
     "output_type": "execute_result"
    },
    {
     "data": {
      "image/png": "[encoded data removed]",
      "text/plain": [
       "<Figure size 640x480 with 1 Axes>"
      ]
     },
     "metadata": {},
     "output_type": "display_data"
    }
   ],
   "source": [
    "# Let's plot the loss and accuracy to see performance of model\n",
    "pd.DataFrame(history.history).plot()"
   ]
  },
  {
   "cell_type": "code",
   "execution_count": 79,
   "id": "9d859f39-176d-45c9-adb1-1a4fad520ee4",
   "metadata": {},
   "outputs": [
    {
     "name": "stdout",
     "output_type": "stream",
     "text": [
      "\u001b[1m14/14\u001b[0m \u001b[32m━━━━━━━━━━━━━━━━━━━━\u001b[0m\u001b[37m\u001b[0m \u001b[1m13s\u001b[0m 913ms/step - accuracy: 0.8434 - loss: 0.3417\n"
     ]
    },
    {
     "data": {
      "text/plain": [
       "[0.3421556055545807, 0.8407782316207886]"
      ]
     },
     "execution_count": 79,
     "metadata": {},
     "output_type": "execute_result"
    }
   ],
   "source": [
    "# evaluate the model\n",
    "model.evaluate(test_data)"
   ]
  },
  {
   "cell_type": "markdown",
   "id": "a4c263a9-2594-4ab9-9b92-a07b06cfe15c",
   "metadata": {},
   "source": [
    "### **Improvements:**\n",
    "As the number of epochs increases, we notice a growing gap between training accuracy and validation accuracy. This suggests possible `overfitting`, where the model performs well on training data but struggles to generalize to unseen data. To mitigate this, we can introduce a **Dropout layer**, which helps prevent overfitting by randomly disabling neurons during training."
   ]
  },
  {
   "cell_type": "code",
   "execution_count": 80,
   "id": "9df3e47d-3b36-4353-8f65-d7dd9cb40777",
   "metadata": {},
   "outputs": [
    {
     "name": "stdout",
     "output_type": "stream",
     "text": [
      "Epoch 1/5\n",
      "\u001b[1m108/108\u001b[0m \u001b[32m━━━━━━━━━━━━━━━━━━━━\u001b[0m\u001b[37m\u001b[0m \u001b[1m316s\u001b[0m 3s/step - accuracy: 0.7253 - loss: 0.5264 - val_accuracy: 0.8372 - val_loss: 0.3645\n",
      "Epoch 2/5\n",
      "\u001b[1m108/108\u001b[0m \u001b[32m━━━━━━━━━━━━━━━━━━━━\u001b[0m\u001b[37m\u001b[0m \u001b[1m280s\u001b[0m 3s/step - accuracy: 0.8442 - loss: 0.3528 - val_accuracy: 0.8417 - val_loss: 0.3433\n",
      "Epoch 3/5\n",
      "\u001b[1m108/108\u001b[0m \u001b[32m━━━━━━━━━━━━━━━━━━━━\u001b[0m\u001b[37m\u001b[0m \u001b[1m293s\u001b[0m 3s/step - accuracy: 0.8513 - loss: 0.3373 - val_accuracy: 0.8469 - val_loss: 0.3339\n",
      "Epoch 4/5\n",
      "\u001b[1m108/108\u001b[0m \u001b[32m━━━━━━━━━━━━━━━━━━━━\u001b[0m\u001b[37m\u001b[0m \u001b[1m282s\u001b[0m 3s/step - accuracy: 0.8551 - loss: 0.3256 - val_accuracy: 0.8464 - val_loss: 0.3451\n",
      "Epoch 5/5\n",
      "\u001b[1m108/108\u001b[0m \u001b[32m━━━━━━━━━━━━━━━━━━━━\u001b[0m\u001b[37m\u001b[0m \u001b[1m274s\u001b[0m 3s/step - accuracy: 0.8593 - loss: 0.3167 - val_accuracy: 0.8460 - val_loss: 0.3371\n"
     ]
    }
   ],
   "source": [
    "# 1. make model\n",
    "model = tf.keras.Sequential([\n",
    "    text_vectorizer,  \n",
    "    embedder,  \n",
    "    tf.keras.layers.LSTM(64),\n",
    "    tf.keras.layers.Dropout(0.40),\n",
    "    tf.keras.layers.Dense(32, activation='relu'),\n",
    "    tf.keras.layers.Dropout(0.40),\n",
    "    tf.keras.layers.Dense(16),\n",
    "    tf.keras.layers.Dense(1, activation='sigmoid')  \n",
    "])\n",
    "\n",
    "# 2. Compile the model\n",
    "model.compile(\n",
    "    optimizer=tf.keras.optimizers.Adam(learning_rate=0.001), \n",
    "    loss=\"binary_crossentropy\", \n",
    "    metrics=[\"accuracy\"]\n",
    ")\n",
    "\n",
    "# 3. fit the data\n",
    "history = model.fit(\n",
    "    train_data,\n",
    "    epochs=5,\n",
    "    validation_data=val_data\n",
    ")"
   ]
  },
  {
   "cell_type": "code",
   "execution_count": 81,
   "id": "5d6f7228-6d47-40cd-ba72-8bcf7a46d19d",
   "metadata": {},
   "outputs": [
    {
     "data": {
      "text/plain": [
       "<Axes: >"
      ]
     },
     "execution_count": 81,
     "metadata": {},
     "output_type": "execute_result"
    },
    {
     "data": {
      "image/png": "[encoded data removed]",
      "text/plain": [
       "<Figure size 640x480 with 1 Axes>"
      ]
     },
     "metadata": {},
     "output_type": "display_data"
    }
   ],
   "source": [
    "# Let's plot the loss and accuracy to see performance of model\n",
    "pd.DataFrame(history.history).plot()"
   ]
  },
  {
   "cell_type": "code",
   "execution_count": 82,
   "id": "fe0a9465-a1d1-447a-83f5-eed64a117c0d",
   "metadata": {},
   "outputs": [
    {
     "data": {
      "text/html": [
       "<pre style=\"white-space:pre;overflow-x:auto;line-height:normal;font-family:Menlo,'DejaVu Sans Mono',consolas,'Courier New',monospace\"><span style=\"font-weight: bold\">Model: \"sequential_13\"</span>\n",
       "</pre>\n"
      ],
      "text/plain": [
       "\u001b[1mModel: \"sequential_13\"\u001b[0m\n"
      ]
     },
     "metadata": {},
     "output_type": "display_data"
    },
    {
     "data": {
      "text/html": [
       "<pre style=\"white-space:pre;overflow-x:auto;line-height:normal;font-family:Menlo,'DejaVu Sans Mono',consolas,'Courier New',monospace\">┏━━━━━━━━━━━━━━━━━━━━━━━━━━━━━━━━━━━━━━┳━━━━━━━━━━━━━━━━━━━━━━━━━━━━━┳━━━━━━━━━━━━━━━━━┓\n",
       "┃<span style=\"font-weight: bold\"> Layer (type)                         </span>┃<span style=\"font-weight: bold\"> Output Shape                </span>┃<span style=\"font-weight: bold\">         Param # </span>┃\n",
       "┡━━━━━━━━━━━━━━━━━━━━━━━━━━━━━━━━━━━━━━╇━━━━━━━━━━━━━━━━━━━━━━━━━━━━━╇━━━━━━━━━━━━━━━━━┩\n",
       "│ text_vectorizer (<span style=\"color: #0087ff; text-decoration-color: #0087ff\">TextVectorization</span>)  │ (<span style=\"color: #00d7ff; text-decoration-color: #00d7ff\">None</span>, <span style=\"color: #00af00; text-decoration-color: #00af00\">100</span>)                 │               <span style=\"color: #00af00; text-decoration-color: #00af00\">0</span> │\n",
       "├──────────────────────────────────────┼─────────────────────────────┼─────────────────┤\n",
       "│ word_embeddings (<span style=\"color: #0087ff; text-decoration-color: #0087ff\">Embedding</span>)          │ (<span style=\"color: #00d7ff; text-decoration-color: #00d7ff\">None</span>, <span style=\"color: #00af00; text-decoration-color: #00af00\">100</span>, <span style=\"color: #00af00; text-decoration-color: #00af00\">32</span>)             │          <span style=\"color: #00af00; text-decoration-color: #00af00\">64,000</span> │\n",
       "├──────────────────────────────────────┼─────────────────────────────┼─────────────────┤\n",
       "│ lstm_8 (<span style=\"color: #0087ff; text-decoration-color: #0087ff\">LSTM</span>)                        │ (<span style=\"color: #00d7ff; text-decoration-color: #00d7ff\">None</span>, <span style=\"color: #00af00; text-decoration-color: #00af00\">64</span>)                  │          <span style=\"color: #00af00; text-decoration-color: #00af00\">24,832</span> │\n",
       "├──────────────────────────────────────┼─────────────────────────────┼─────────────────┤\n",
       "│ dropout_9 (<span style=\"color: #0087ff; text-decoration-color: #0087ff\">Dropout</span>)                  │ (<span style=\"color: #00d7ff; text-decoration-color: #00d7ff\">None</span>, <span style=\"color: #00af00; text-decoration-color: #00af00\">64</span>)                  │               <span style=\"color: #00af00; text-decoration-color: #00af00\">0</span> │\n",
       "├──────────────────────────────────────┼─────────────────────────────┼─────────────────┤\n",
       "│ dense_31 (<span style=\"color: #0087ff; text-decoration-color: #0087ff\">Dense</span>)                     │ (<span style=\"color: #00d7ff; text-decoration-color: #00d7ff\">None</span>, <span style=\"color: #00af00; text-decoration-color: #00af00\">32</span>)                  │           <span style=\"color: #00af00; text-decoration-color: #00af00\">2,080</span> │\n",
       "├──────────────────────────────────────┼─────────────────────────────┼─────────────────┤\n",
       "│ dropout_10 (<span style=\"color: #0087ff; text-decoration-color: #0087ff\">Dropout</span>)                 │ (<span style=\"color: #00d7ff; text-decoration-color: #00d7ff\">None</span>, <span style=\"color: #00af00; text-decoration-color: #00af00\">32</span>)                  │               <span style=\"color: #00af00; text-decoration-color: #00af00\">0</span> │\n",
       "├──────────────────────────────────────┼─────────────────────────────┼─────────────────┤\n",
       "│ dense_32 (<span style=\"color: #0087ff; text-decoration-color: #0087ff\">Dense</span>)                     │ (<span style=\"color: #00d7ff; text-decoration-color: #00d7ff\">None</span>, <span style=\"color: #00af00; text-decoration-color: #00af00\">16</span>)                  │             <span style=\"color: #00af00; text-decoration-color: #00af00\">528</span> │\n",
       "├──────────────────────────────────────┼─────────────────────────────┼─────────────────┤\n",
       "│ dense_33 (<span style=\"color: #0087ff; text-decoration-color: #0087ff\">Dense</span>)                     │ (<span style=\"color: #00d7ff; text-decoration-color: #00d7ff\">None</span>, <span style=\"color: #00af00; text-decoration-color: #00af00\">1</span>)                   │              <span style=\"color: #00af00; text-decoration-color: #00af00\">17</span> │\n",
       "└──────────────────────────────────────┴─────────────────────────────┴─────────────────┘\n",
       "</pre>\n"
      ],
      "text/plain": [
       "┏━━━━━━━━━━━━━━━━━━━━━━━━━━━━━━━━━━━━━━┳━━━━━━━━━━━━━━━━━━━━━━━━━━━━━┳━━━━━━━━━━━━━━━━━┓\n",
       "┃\u001b[1m \u001b[0m\u001b[1mLayer (type)                        \u001b[0m\u001b[1m \u001b[0m┃\u001b[1m \u001b[0m\u001b[1mOutput Shape               \u001b[0m\u001b[1m \u001b[0m┃\u001b[1m \u001b[0m\u001b[1m        Param #\u001b[0m\u001b[1m \u001b[0m┃\n",
       "┡━━━━━━━━━━━━━━━━━━━━━━━━━━━━━━━━━━━━━━╇━━━━━━━━━━━━━━━━━━━━━━━━━━━━━╇━━━━━━━━━━━━━━━━━┩\n",
       "│ text_vectorizer (\u001b[38;5;33mTextVectorization\u001b[0m)  │ (\u001b[38;5;45mNone\u001b[0m, \u001b[38;5;34m100\u001b[0m)                 │               \u001b[38;5;34m0\u001b[0m │\n",
       "├──────────────────────────────────────┼─────────────────────────────┼─────────────────┤\n",
       "│ word_embeddings (\u001b[38;5;33mEmbedding\u001b[0m)          │ (\u001b[38;5;45mNone\u001b[0m, \u001b[38;5;34m100\u001b[0m, \u001b[38;5;34m32\u001b[0m)             │          \u001b[38;5;34m64,000\u001b[0m │\n",
       "├──────────────────────────────────────┼─────────────────────────────┼─────────────────┤\n",
       "│ lstm_8 (\u001b[38;5;33mLSTM\u001b[0m)                        │ (\u001b[38;5;45mNone\u001b[0m, \u001b[38;5;34m64\u001b[0m)                  │          \u001b[38;5;34m24,832\u001b[0m │\n",
       "├──────────────────────────────────────┼─────────────────────────────┼─────────────────┤\n",
       "│ dropout_9 (\u001b[38;5;33mDropout\u001b[0m)                  │ (\u001b[38;5;45mNone\u001b[0m, \u001b[38;5;34m64\u001b[0m)                  │               \u001b[38;5;34m0\u001b[0m │\n",
       "├──────────────────────────────────────┼─────────────────────────────┼─────────────────┤\n",
       "│ dense_31 (\u001b[38;5;33mDense\u001b[0m)                     │ (\u001b[38;5;45mNone\u001b[0m, \u001b[38;5;34m32\u001b[0m)                  │           \u001b[38;5;34m2,080\u001b[0m │\n",
       "├──────────────────────────────────────┼─────────────────────────────┼─────────────────┤\n",
       "│ dropout_10 (\u001b[38;5;33mDropout\u001b[0m)                 │ (\u001b[38;5;45mNone\u001b[0m, \u001b[38;5;34m32\u001b[0m)                  │               \u001b[38;5;34m0\u001b[0m │\n",
       "├──────────────────────────────────────┼─────────────────────────────┼─────────────────┤\n",
       "│ dense_32 (\u001b[38;5;33mDense\u001b[0m)                     │ (\u001b[38;5;45mNone\u001b[0m, \u001b[38;5;34m16\u001b[0m)                  │             \u001b[38;5;34m528\u001b[0m │\n",
       "├──────────────────────────────────────┼─────────────────────────────┼─────────────────┤\n",
       "│ dense_33 (\u001b[38;5;33mDense\u001b[0m)                     │ (\u001b[38;5;45mNone\u001b[0m, \u001b[38;5;34m1\u001b[0m)                   │              \u001b[38;5;34m17\u001b[0m │\n",
       "└──────────────────────────────────────┴─────────────────────────────┴─────────────────┘\n"
      ]
     },
     "metadata": {},
     "output_type": "display_data"
    },
    {
     "data": {
      "text/html": [
       "<pre style=\"white-space:pre;overflow-x:auto;line-height:normal;font-family:Menlo,'DejaVu Sans Mono',consolas,'Courier New',monospace\"><span style=\"font-weight: bold\"> Total params: </span><span style=\"color: #00af00; text-decoration-color: #00af00\">274,373</span> (1.05 MB)\n",
       "</pre>\n"
      ],
      "text/plain": [
       "\u001b[1m Total params: \u001b[0m\u001b[38;5;34m274,373\u001b[0m (1.05 MB)\n"
      ]
     },
     "metadata": {},
     "output_type": "display_data"
    },
    {
     "data": {
      "text/html": [
       "<pre style=\"white-space:pre;overflow-x:auto;line-height:normal;font-family:Menlo,'DejaVu Sans Mono',consolas,'Courier New',monospace\"><span style=\"font-weight: bold\"> Trainable params: </span><span style=\"color: #00af00; text-decoration-color: #00af00\">91,457</span> (357.25 KB)\n",
       "</pre>\n"
      ],
      "text/plain": [
       "\u001b[1m Trainable params: \u001b[0m\u001b[38;5;34m91,457\u001b[0m (357.25 KB)\n"
      ]
     },
     "metadata": {},
     "output_type": "display_data"
    },
    {
     "data": {
      "text/html": [
       "<pre style=\"white-space:pre;overflow-x:auto;line-height:normal;font-family:Menlo,'DejaVu Sans Mono',consolas,'Courier New',monospace\"><span style=\"font-weight: bold\"> Non-trainable params: </span><span style=\"color: #00af00; text-decoration-color: #00af00\">0</span> (0.00 B)\n",
       "</pre>\n"
      ],
      "text/plain": [
       "\u001b[1m Non-trainable params: \u001b[0m\u001b[38;5;34m0\u001b[0m (0.00 B)\n"
      ]
     },
     "metadata": {},
     "output_type": "display_data"
    },
    {
     "data": {
      "text/html": [
       "<pre style=\"white-space:pre;overflow-x:auto;line-height:normal;font-family:Menlo,'DejaVu Sans Mono',consolas,'Courier New',monospace\"><span style=\"font-weight: bold\"> Optimizer params: </span><span style=\"color: #00af00; text-decoration-color: #00af00\">182,916</span> (714.52 KB)\n",
       "</pre>\n"
      ],
      "text/plain": [
       "\u001b[1m Optimizer params: \u001b[0m\u001b[38;5;34m182,916\u001b[0m (714.52 KB)\n"
      ]
     },
     "metadata": {},
     "output_type": "display_data"
    }
   ],
   "source": [
    "model.summary()"
   ]
  },
  {
   "cell_type": "code",
   "execution_count": null,
   "id": "0d312c14-1ed0-455f-b1c8-fe19829e2ca3",
   "metadata": {},
   "outputs": [],
   "source": []
  }
 ],
 "metadata": {
  "kernelspec": {
   "display_name": "tfenv",
   "language": "python",
   "name": "tfenv"
  },
  "language_info": {
   "codemirror_mode": {
    "name": "ipython",
    "version": 3
   },
   "file_extension": ".py",
   "mimetype": "text/x-python",
   "name": "python",
   "nbconvert_exporter": "python",
   "pygments_lexer": "ipython3",
   "version": "3.10.16"
  }
 },
 "nbformat": 4,
 "nbformat_minor": 5
}
